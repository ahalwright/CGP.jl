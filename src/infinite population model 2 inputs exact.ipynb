{
 "cells": [
  {
   "cell_type": "code",
   "execution_count": 1,
   "id": "0a0e7125",
   "metadata": {},
   "outputs": [
    {
     "data": {
      "text/plain": [
       "\"/Users/oldmtnbiker/Library/CloudStorage/OneDrive-Personal/evotech/CGP.jl/src\""
      ]
     },
     "execution_count": 1,
     "metadata": {},
     "output_type": "execute_result"
    }
   ],
   "source": [
    "pwd()"
   ]
  },
  {
   "cell_type": "code",
   "execution_count": 29,
   "id": "daf138e2",
   "metadata": {},
   "outputs": [],
   "source": [
    "using LinearAlgebra"
   ]
  },
  {
   "cell_type": "code",
   "execution_count": 2,
   "id": "d076b0b0",
   "metadata": {},
   "outputs": [
    {
     "data": {
      "text/plain": [
       "UInt16"
      ]
     },
     "execution_count": 2,
     "metadata": {},
     "output_type": "execute_result"
    }
   ],
   "source": [
    "include(\"CGP.jl\")"
   ]
  },
  {
   "cell_type": "code",
   "execution_count": 32,
   "id": "bd04ea39",
   "metadata": {},
   "outputs": [
    {
     "data": {
      "text/plain": [
       "evolvability_list_filtered (generic function with 2 methods)"
      ]
     },
     "execution_count": 32,
     "metadata": {},
     "output_type": "execute_result"
    }
   ],
   "source": [
    "include(\"evolvable_evolvability.jl\")"
   ]
  },
  {
   "cell_type": "code",
   "execution_count": 115,
   "id": "fa93ac6f",
   "metadata": {},
   "outputs": [
    {
     "data": {
      "text/plain": [
       "mutation (generic function with 1 method)"
      ]
     },
     "execution_count": 115,
     "metadata": {},
     "output_type": "execute_result"
    }
   ],
   "source": [
    "include(\"InfPop.jl\")"
   ]
  },
  {
   "cell_type": "markdown",
   "id": "8a8bf0bd",
   "metadata": {},
   "source": [
    "p = Parameters(2,1,3,3);funcs=default_funcs(p)[1:4]"
   ]
  },
  {
   "cell_type": "code",
   "execution_count": 48,
   "id": "6772ff8c",
   "metadata": {},
   "outputs": [
    {
     "data": {
      "text/html": [
       "<div class=\"data-frame\"><p>16 rows × 17 columns (omitted printing of 5 columns)</p><table class=\"data-frame\"><thead><tr><th></th><th>goal</th><th>0x0</th><th>0x1</th><th>0x2</th><th>0x3</th><th>0x4</th><th>0x5</th><th>0x6</th><th>0x7</th><th>0x8</th><th>0x9</th><th>0xa</th></tr><tr><th></th><th title=\"String3\">String3</th><th title=\"Int64\">Int64</th><th title=\"Int64\">Int64</th><th title=\"Int64\">Int64</th><th title=\"Int64\">Int64</th><th title=\"Int64\">Int64</th><th title=\"Int64\">Int64</th><th title=\"Int64\">Int64</th><th title=\"Int64\">Int64</th><th title=\"Int64\">Int64</th><th title=\"Int64\">Int64</th><th title=\"Int64\">Int64</th></tr></thead><tbody><tr><th>1</th><td>0x0</td><td>18144</td><td>2432</td><td>2592</td><td>648</td><td>2592</td><td>3192</td><td>96</td><td>304</td><td>2432</td><td>32</td><td>3192</td></tr><tr><th>2</th><td>0x1</td><td>2432</td><td>10768</td><td>344</td><td>1584</td><td>1352</td><td>3600</td><td>32</td><td>1024</td><td>928</td><td>80</td><td>384</td></tr><tr><th>3</th><td>0x2</td><td>2592</td><td>344</td><td>5104</td><td>624</td><td>448</td><td>168</td><td>96</td><td>464</td><td>1352</td><td>0</td><td>1584</td></tr><tr><th>4</th><td>0x3</td><td>648</td><td>1584</td><td>624</td><td>5760</td><td>88</td><td>128</td><td>0</td><td>1584</td><td>64</td><td>0</td><td>64</td></tr><tr><th>5</th><td>0x4</td><td>2592</td><td>1352</td><td>448</td><td>88</td><td>5104</td><td>1584</td><td>96</td><td>128</td><td>344</td><td>0</td><td>168</td></tr><tr><th>6</th><td>0x5</td><td>3192</td><td>3600</td><td>168</td><td>128</td><td>1584</td><td>34784</td><td>16</td><td>3600</td><td>384</td><td>16</td><td>6720</td></tr><tr><th>7</th><td>0x6</td><td>96</td><td>32</td><td>96</td><td>0</td><td>96</td><td>16</td><td>0</td><td>80</td><td>32</td><td>32</td><td>16</td></tr><tr><th>8</th><td>0x7</td><td>304</td><td>1024</td><td>464</td><td>1584</td><td>128</td><td>3600</td><td>80</td><td>10768</td><td>2656</td><td>32</td><td>384</td></tr><tr><th>9</th><td>0x8</td><td>2432</td><td>928</td><td>1352</td><td>64</td><td>344</td><td>384</td><td>32</td><td>2656</td><td>10768</td><td>80</td><td>3600</td></tr><tr><th>10</th><td>0x9</td><td>32</td><td>80</td><td>0</td><td>0</td><td>0</td><td>16</td><td>32</td><td>32</td><td>80</td><td>0</td><td>16</td></tr><tr><th>11</th><td>0xa</td><td>3192</td><td>384</td><td>1584</td><td>64</td><td>168</td><td>6720</td><td>16</td><td>384</td><td>3600</td><td>16</td><td>34784</td></tr><tr><th>12</th><td>0xb</td><td>384</td><td>464</td><td>320</td><td>624</td><td>896</td><td>168</td><td>0</td><td>344</td><td>128</td><td>96</td><td>1584</td></tr><tr><th>13</th><td>0xc</td><td>648</td><td>64</td><td>88</td><td>2624</td><td>624</td><td>64</td><td>0</td><td>64</td><td>1584</td><td>0</td><td>128</td></tr><tr><th>14</th><td>0xd</td><td>384</td><td>128</td><td>896</td><td>88</td><td>320</td><td>1584</td><td>0</td><td>1352</td><td>464</td><td>96</td><td>168</td></tr><tr><th>15</th><td>0xe</td><td>304</td><td>2656</td><td>128</td><td>64</td><td>464</td><td>384</td><td>80</td><td>928</td><td>1024</td><td>32</td><td>3600</td></tr><tr><th>16</th><td>0xf</td><td>3360</td><td>304</td><td>384</td><td>648</td><td>384</td><td>3192</td><td>32</td><td>2432</td><td>304</td><td>96</td><td>3192</td></tr></tbody></table></div>"
      ],
      "text/latex": [
       "\\begin{tabular}{r|ccccccccccccc}\n",
       "\t& goal & 0x0 & 0x1 & 0x2 & 0x3 & 0x4 & 0x5 & 0x6 & 0x7 & 0x8 & 0x9 & 0xa & \\\\\n",
       "\t\\hline\n",
       "\t& String3 & Int64 & Int64 & Int64 & Int64 & Int64 & Int64 & Int64 & Int64 & Int64 & Int64 & Int64 & \\\\\n",
       "\t\\hline\n",
       "\t1 & 0x0 & 18144 & 2432 & 2592 & 648 & 2592 & 3192 & 96 & 304 & 2432 & 32 & 3192 & $\\dots$ \\\\\n",
       "\t2 & 0x1 & 2432 & 10768 & 344 & 1584 & 1352 & 3600 & 32 & 1024 & 928 & 80 & 384 & $\\dots$ \\\\\n",
       "\t3 & 0x2 & 2592 & 344 & 5104 & 624 & 448 & 168 & 96 & 464 & 1352 & 0 & 1584 & $\\dots$ \\\\\n",
       "\t4 & 0x3 & 648 & 1584 & 624 & 5760 & 88 & 128 & 0 & 1584 & 64 & 0 & 64 & $\\dots$ \\\\\n",
       "\t5 & 0x4 & 2592 & 1352 & 448 & 88 & 5104 & 1584 & 96 & 128 & 344 & 0 & 168 & $\\dots$ \\\\\n",
       "\t6 & 0x5 & 3192 & 3600 & 168 & 128 & 1584 & 34784 & 16 & 3600 & 384 & 16 & 6720 & $\\dots$ \\\\\n",
       "\t7 & 0x6 & 96 & 32 & 96 & 0 & 96 & 16 & 0 & 80 & 32 & 32 & 16 & $\\dots$ \\\\\n",
       "\t8 & 0x7 & 304 & 1024 & 464 & 1584 & 128 & 3600 & 80 & 10768 & 2656 & 32 & 384 & $\\dots$ \\\\\n",
       "\t9 & 0x8 & 2432 & 928 & 1352 & 64 & 344 & 384 & 32 & 2656 & 10768 & 80 & 3600 & $\\dots$ \\\\\n",
       "\t10 & 0x9 & 32 & 80 & 0 & 0 & 0 & 16 & 32 & 32 & 80 & 0 & 16 & $\\dots$ \\\\\n",
       "\t11 & 0xa & 3192 & 384 & 1584 & 64 & 168 & 6720 & 16 & 384 & 3600 & 16 & 34784 & $\\dots$ \\\\\n",
       "\t12 & 0xb & 384 & 464 & 320 & 624 & 896 & 168 & 0 & 344 & 128 & 96 & 1584 & $\\dots$ \\\\\n",
       "\t13 & 0xc & 648 & 64 & 88 & 2624 & 624 & 64 & 0 & 64 & 1584 & 0 & 128 & $\\dots$ \\\\\n",
       "\t14 & 0xd & 384 & 128 & 896 & 88 & 320 & 1584 & 0 & 1352 & 464 & 96 & 168 & $\\dots$ \\\\\n",
       "\t15 & 0xe & 304 & 2656 & 128 & 64 & 464 & 384 & 80 & 928 & 1024 & 32 & 3600 & $\\dots$ \\\\\n",
       "\t16 & 0xf & 3360 & 304 & 384 & 648 & 384 & 3192 & 32 & 2432 & 304 & 96 & 3192 & $\\dots$ \\\\\n",
       "\\end{tabular}\n"
      ],
      "text/plain": [
       "\u001b[1m16×17 DataFrame\u001b[0m\n",
       "\u001b[1m Row \u001b[0m│\u001b[1m goal    \u001b[0m\u001b[1m 0x0   \u001b[0m\u001b[1m 0x1   \u001b[0m\u001b[1m 0x2   \u001b[0m\u001b[1m 0x3   \u001b[0m\u001b[1m 0x4   \u001b[0m\u001b[1m 0x5   \u001b[0m\u001b[1m 0x6   \u001b[0m\u001b[1m 0x7   \u001b[0m\u001b[1m 0x8   \u001b[0m\u001b[1m\u001b[0m ⋯\n",
       "\u001b[1m     \u001b[0m│\u001b[90m String3 \u001b[0m\u001b[90m Int64 \u001b[0m\u001b[90m Int64 \u001b[0m\u001b[90m Int64 \u001b[0m\u001b[90m Int64 \u001b[0m\u001b[90m Int64 \u001b[0m\u001b[90m Int64 \u001b[0m\u001b[90m Int64 \u001b[0m\u001b[90m Int64 \u001b[0m\u001b[90m Int64 \u001b[0m\u001b[90m\u001b[0m ⋯\n",
       "─────┼──────────────────────────────────────────────────────────────────────────\n",
       "   1 │ 0x0      18144   2432   2592    648   2592   3192     96    304   2432  ⋯\n",
       "   2 │ 0x1       2432  10768    344   1584   1352   3600     32   1024    928\n",
       "   3 │ 0x2       2592    344   5104    624    448    168     96    464   1352\n",
       "   4 │ 0x3        648   1584    624   5760     88    128      0   1584     64\n",
       "   5 │ 0x4       2592   1352    448     88   5104   1584     96    128    344  ⋯\n",
       "   6 │ 0x5       3192   3600    168    128   1584  34784     16   3600    384\n",
       "   7 │ 0x6         96     32     96      0     96     16      0     80     32\n",
       "   8 │ 0x7        304   1024    464   1584    128   3600     80  10768   2656\n",
       "   9 │ 0x8       2432    928   1352     64    344    384     32   2656  10768  ⋯\n",
       "  10 │ 0x9         32     80      0      0      0     16     32     32     80\n",
       "  11 │ 0xa       3192    384   1584     64    168   6720     16    384   3600\n",
       "  12 │ 0xb        384    464    320    624    896    168      0    344    128\n",
       "  13 │ 0xc        648     64     88   2624    624     64      0     64   1584  ⋯\n",
       "  14 │ 0xd        384    128    896     88    320   1584      0   1352    464\n",
       "  15 │ 0xe        304   2656    128     64    464    384     80    928   1024\n",
       "  16 │ 0xf       3360    304    384    648    384   3192     32   2432    304\n",
       "\u001b[36m                                                               7 columns omitted\u001b[0m"
      ]
     },
     "execution_count": 48,
     "metadata": {},
     "output_type": "execute_result"
    }
   ],
   "source": [
    "hdf = read_dataframe(\"../data/9_24_22/exact_phnet_matrix9_24_22H.csv\")  # A dataframe for exact matrix"
   ]
  },
  {
   "cell_type": "code",
   "execution_count": 52,
   "id": "6c432a87",
   "metadata": {
    "scrolled": false
   },
   "outputs": [
    {
     "data": {
      "text/plain": [
       "16×16 Matrix{Int64}:\n",
       " 18144   2432  2592   648  2592   3192  96  …   384   648   384    304   3360\n",
       "  2432  10768   344  1584  1352   3600  32      464    64   128   2656    304\n",
       "  2592    344  5104   624   448    168  96      320    88   896    128    384\n",
       "   648   1584   624  5760    88    128   0      624  2624    88     64    648\n",
       "  2592   1352   448    88  5104   1584  96      896   624   320    464    384\n",
       "  3192   3600   168   128  1584  34784  16  …   168    64  1584    384   3192\n",
       "    96     32    96     0    96     16   0        0     0     0     80     32\n",
       "   304   1024   464  1584   128   3600  80      344    64  1352    928   2432\n",
       "  2432    928  1352    64   344    384  32      128  1584   464   1024    304\n",
       "    32     80     0     0     0     16  32       96     0    96     32     96\n",
       "  3192    384  1584    64   168   6720  16  …  1584   128   168   3600   3192\n",
       "   384    464   320   624   896    168   0     5104    88   448   1352   2592\n",
       "   648     64    88  2624   624     64   0       88  5760   624   1584    648\n",
       "   384    128   896    88   320   1584   0      448   624  5104    344   2592\n",
       "   304   2656   128    64   464    384  80     1352  1584   344  10768   2432\n",
       "  3360    304   384   648   384   3192  32  …  2592   648  2592   2432  18144"
      ]
     },
     "execution_count": 52,
     "metadata": {},
     "output_type": "execute_result"
    }
   ],
   "source": [
    "E=df_to_matrix_mt( hdf, 2 )"
   ]
  },
  {
   "cell_type": "code",
   "execution_count": 53,
   "id": "eb91f437",
   "metadata": {},
   "outputs": [
    {
     "data": {
      "text/plain": [
       "1×16 adjoint(::Vector{Float64}) with eltype Float64:\n",
       " 0.0625  0.0625  0.0625  0.0625  0.0625  …  0.0625  0.0625  0.0625  0.0625"
      ]
     },
     "execution_count": 53,
     "metadata": {},
     "output_type": "execute_result"
    }
   ],
   "source": [
    "P=fill(1.0,2^2^p.numinputs); P=P/sum(P); P'  # Initial uniform population"
   ]
  },
  {
   "cell_type": "code",
   "execution_count": 59,
   "id": "4e2d4fad",
   "metadata": {},
   "outputs": [
    {
     "data": {
      "text/html": [
       "<div class=\"data-frame\"><p>16 rows × 2 columns</p><table class=\"data-frame\"><thead><tr><th></th><th>phenos</th><th>values</th></tr><tr><th></th><th title=\"Vector{UInt8}\">Array…</th><th title=\"Float64\">Float64</th></tr></thead><tbody><tr><th>1</th><td>[0x00]</td><td>2546.0</td></tr><tr><th>2</th><td>[0x01]</td><td>1634.0</td></tr><tr><th>3</th><td>[0x02]</td><td>912.0</td></tr><tr><th>4</th><td>[0x03]</td><td>912.0</td></tr><tr><th>5</th><td>[0x04]</td><td>912.0</td></tr><tr><th>6</th><td>[0x05]</td><td>3724.0</td></tr><tr><th>7</th><td>[0x06]</td><td>38.0</td></tr><tr><th>8</th><td>[0x07]</td><td>1634.0</td></tr><tr><th>9</th><td>[0x08]</td><td>1634.0</td></tr><tr><th>10</th><td>[0x09]</td><td>38.0</td></tr><tr><th>11</th><td>[0x0a]</td><td>3724.0</td></tr><tr><th>12</th><td>[0x0b]</td><td>912.0</td></tr><tr><th>13</th><td>[0x0c]</td><td>912.0</td></tr><tr><th>14</th><td>[0x0d]</td><td>912.0</td></tr><tr><th>15</th><td>[0x0e]</td><td>1634.0</td></tr><tr><th>16</th><td>[0x0f]</td><td>2546.0</td></tr></tbody></table></div>"
      ],
      "text/latex": [
       "\\begin{tabular}{r|cc}\n",
       "\t& phenos & values\\\\\n",
       "\t\\hline\n",
       "\t& Array… & Float64\\\\\n",
       "\t\\hline\n",
       "\t1 & [0x00] & 2546.0 \\\\\n",
       "\t2 & [0x01] & 1634.0 \\\\\n",
       "\t3 & [0x02] & 912.0 \\\\\n",
       "\t4 & [0x03] & 912.0 \\\\\n",
       "\t5 & [0x04] & 912.0 \\\\\n",
       "\t6 & [0x05] & 3724.0 \\\\\n",
       "\t7 & [0x06] & 38.0 \\\\\n",
       "\t8 & [0x07] & 1634.0 \\\\\n",
       "\t9 & [0x08] & 1634.0 \\\\\n",
       "\t10 & [0x09] & 38.0 \\\\\n",
       "\t11 & [0x0a] & 3724.0 \\\\\n",
       "\t12 & [0x0b] & 912.0 \\\\\n",
       "\t13 & [0x0c] & 912.0 \\\\\n",
       "\t14 & [0x0d] & 912.0 \\\\\n",
       "\t15 & [0x0e] & 1634.0 \\\\\n",
       "\t16 & [0x0f] & 2546.0 \\\\\n",
       "\\end{tabular}\n"
      ],
      "text/plain": [
       "\u001b[1m16×2 DataFrame\u001b[0m\n",
       "\u001b[1m Row \u001b[0m│\u001b[1m phenos      \u001b[0m\u001b[1m values  \u001b[0m\n",
       "\u001b[1m     \u001b[0m│\u001b[90m Array…      \u001b[0m\u001b[90m Float64 \u001b[0m\n",
       "─────┼──────────────────────\n",
       "   1 │ UInt8[0x00]   2546.0\n",
       "   2 │ UInt8[0x01]   1634.0\n",
       "   3 │ UInt8[0x02]    912.0\n",
       "   4 │ UInt8[0x03]    912.0\n",
       "   5 │ UInt8[0x04]    912.0\n",
       "   6 │ UInt8[0x05]   3724.0\n",
       "   7 │ UInt8[0x06]     38.0\n",
       "   8 │ UInt8[0x07]   1634.0\n",
       "   9 │ UInt8[0x08]   1634.0\n",
       "  10 │ UInt8[0x09]     38.0\n",
       "  11 │ UInt8[0x0a]   3724.0\n",
       "  12 │ UInt8[0x0b]    912.0\n",
       "  13 │ UInt8[0x0c]    912.0\n",
       "  14 │ UInt8[0x0d]    912.0\n",
       "  15 │ UInt8[0x0e]   1634.0\n",
       "  16 │ UInt8[0x0f]   2546.0"
      ]
     },
     "execution_count": 59,
     "metadata": {},
     "output_type": "execute_result"
    }
   ],
   "source": [
    "display_pheno_vect( E*P, map(x->[x],0x0:0xf) )  # 1 generations of mutation with no selection\n",
    "# Note that 0x05 and 0x0a have highest frequency even though these are not the phenotypes with highest redundany"
   ]
  },
  {
   "cell_type": "code",
   "execution_count": 65,
   "id": "6144f90a",
   "metadata": {},
   "outputs": [
    {
     "data": {
      "text/html": [
       "<div class=\"data-frame\"><p>16 rows × 2 columns</p><table class=\"data-frame\"><thead><tr><th></th><th>phenos</th><th>values</th></tr><tr><th></th><th title=\"Vector{UInt8}\">Array…</th><th title=\"Float64\">Float64</th></tr></thead><tbody><tr><th>1</th><td>[0x00]</td><td>0.0937477</td></tr><tr><th>2</th><td>[0x01]</td><td>0.0475709</td></tr><tr><th>3</th><td>[0x02]</td><td>0.0229893</td></tr><tr><th>4</th><td>[0x03]</td><td>0.0112471</td></tr><tr><th>5</th><td>[0x04]</td><td>0.0229893</td></tr><tr><th>6</th><td>[0x05]</td><td>0.253053</td></tr><tr><th>7</th><td>[0x06]</td><td>0.000831713</td></tr><tr><th>8</th><td>[0x07]</td><td>0.0475709</td></tr><tr><th>9</th><td>[0x08]</td><td>0.0475709</td></tr><tr><th>10</th><td>[0x09]</td><td>0.000831713</td></tr><tr><th>11</th><td>[0x0a]</td><td>0.253053</td></tr><tr><th>12</th><td>[0x0b]</td><td>0.0229893</td></tr><tr><th>13</th><td>[0x0c]</td><td>0.0112471</td></tr><tr><th>14</th><td>[0x0d]</td><td>0.0229893</td></tr><tr><th>15</th><td>[0x0e]</td><td>0.0475709</td></tr><tr><th>16</th><td>[0x0f]</td><td>0.0937477</td></tr></tbody></table></div>"
      ],
      "text/latex": [
       "\\begin{tabular}{r|cc}\n",
       "\t& phenos & values\\\\\n",
       "\t\\hline\n",
       "\t& Array… & Float64\\\\\n",
       "\t\\hline\n",
       "\t1 & [0x00] & 0.0937477 \\\\\n",
       "\t2 & [0x01] & 0.0475709 \\\\\n",
       "\t3 & [0x02] & 0.0229893 \\\\\n",
       "\t4 & [0x03] & 0.0112471 \\\\\n",
       "\t5 & [0x04] & 0.0229893 \\\\\n",
       "\t6 & [0x05] & 0.253053 \\\\\n",
       "\t7 & [0x06] & 0.000831713 \\\\\n",
       "\t8 & [0x07] & 0.0475709 \\\\\n",
       "\t9 & [0x08] & 0.0475709 \\\\\n",
       "\t10 & [0x09] & 0.000831713 \\\\\n",
       "\t11 & [0x0a] & 0.253053 \\\\\n",
       "\t12 & [0x0b] & 0.0229893 \\\\\n",
       "\t13 & [0x0c] & 0.0112471 \\\\\n",
       "\t14 & [0x0d] & 0.0229893 \\\\\n",
       "\t15 & [0x0e] & 0.0475709 \\\\\n",
       "\t16 & [0x0f] & 0.0937477 \\\\\n",
       "\\end{tabular}\n"
      ],
      "text/plain": [
       "\u001b[1m16×2 DataFrame\u001b[0m\n",
       "\u001b[1m Row \u001b[0m│\u001b[1m phenos      \u001b[0m\u001b[1m values      \u001b[0m\n",
       "\u001b[1m     \u001b[0m│\u001b[90m Array…      \u001b[0m\u001b[90m Float64     \u001b[0m\n",
       "─────┼──────────────────────────\n",
       "   1 │ UInt8[0x00]  0.0937477\n",
       "   2 │ UInt8[0x01]  0.0475709\n",
       "   3 │ UInt8[0x02]  0.0229893\n",
       "   4 │ UInt8[0x03]  0.0112471\n",
       "   5 │ UInt8[0x04]  0.0229893\n",
       "   6 │ UInt8[0x05]  0.253053\n",
       "   7 │ UInt8[0x06]  0.000831713\n",
       "   8 │ UInt8[0x07]  0.0475709\n",
       "   9 │ UInt8[0x08]  0.0475709\n",
       "  10 │ UInt8[0x09]  0.000831713\n",
       "  11 │ UInt8[0x0a]  0.253053\n",
       "  12 │ UInt8[0x0b]  0.0229893\n",
       "  13 │ UInt8[0x0c]  0.0112471\n",
       "  14 │ UInt8[0x0d]  0.0229893\n",
       "  15 │ UInt8[0x0e]  0.0475709\n",
       "  16 │ UInt8[0x0f]  0.0937477"
      ]
     },
     "execution_count": 65,
     "metadata": {},
     "output_type": "execute_result"
    }
   ],
   "source": [
    "display_pheno_vect( normalize(E^4*P), labels)  # 4 generations of mutation with no selection, normalized"
   ]
  },
  {
   "cell_type": "code",
   "execution_count": 154,
   "id": "37d041af",
   "metadata": {},
   "outputs": [
    {
     "data": {
      "text/html": [
       "<div class=\"data-frame\"><p>16 rows × 2 columns</p><table class=\"data-frame\"><thead><tr><th></th><th>phenos</th><th>values</th></tr><tr><th></th><th title=\"Vector{UInt8}\">Array…</th><th title=\"Float64\">Float64</th></tr></thead><tbody><tr><th>1</th><td>[0x00]</td><td>0.85</td></tr><tr><th>2</th><td>[0x01]</td><td>0.85</td></tr><tr><th>3</th><td>[0x02]</td><td>0.85</td></tr><tr><th>4</th><td>[0x03]</td><td>0.85</td></tr><tr><th>5</th><td>[0x04]</td><td>0.85</td></tr><tr><th>6</th><td>[0x05]</td><td>0.85</td></tr><tr><th>7</th><td>[0x06]</td><td>1.0</td></tr><tr><th>8</th><td>[0x07]</td><td>0.85</td></tr><tr><th>9</th><td>[0x08]</td><td>0.85</td></tr><tr><th>10</th><td>[0x09]</td><td>0.85</td></tr><tr><th>11</th><td>[0x0a]</td><td>0.85</td></tr><tr><th>12</th><td>[0x0b]</td><td>0.85</td></tr><tr><th>13</th><td>[0x0c]</td><td>0.85</td></tr><tr><th>14</th><td>[0x0d]</td><td>0.85</td></tr><tr><th>15</th><td>[0x0e]</td><td>0.85</td></tr><tr><th>16</th><td>[0x0f]</td><td>0.85</td></tr></tbody></table></div>"
      ],
      "text/latex": [
       "\\begin{tabular}{r|cc}\n",
       "\t& phenos & values\\\\\n",
       "\t\\hline\n",
       "\t& Array… & Float64\\\\\n",
       "\t\\hline\n",
       "\t1 & [0x00] & 0.85 \\\\\n",
       "\t2 & [0x01] & 0.85 \\\\\n",
       "\t3 & [0x02] & 0.85 \\\\\n",
       "\t4 & [0x03] & 0.85 \\\\\n",
       "\t5 & [0x04] & 0.85 \\\\\n",
       "\t6 & [0x05] & 0.85 \\\\\n",
       "\t7 & [0x06] & 1.0 \\\\\n",
       "\t8 & [0x07] & 0.85 \\\\\n",
       "\t9 & [0x08] & 0.85 \\\\\n",
       "\t10 & [0x09] & 0.85 \\\\\n",
       "\t11 & [0x0a] & 0.85 \\\\\n",
       "\t12 & [0x0b] & 0.85 \\\\\n",
       "\t13 & [0x0c] & 0.85 \\\\\n",
       "\t14 & [0x0d] & 0.85 \\\\\n",
       "\t15 & [0x0e] & 0.85 \\\\\n",
       "\t16 & [0x0f] & 0.85 \\\\\n",
       "\\end{tabular}\n"
      ],
      "text/plain": [
       "\u001b[1m16×2 DataFrame\u001b[0m\n",
       "\u001b[1m Row \u001b[0m│\u001b[1m phenos      \u001b[0m\u001b[1m values  \u001b[0m\n",
       "\u001b[1m     \u001b[0m│\u001b[90m Array…      \u001b[0m\u001b[90m Float64 \u001b[0m\n",
       "─────┼──────────────────────\n",
       "   1 │ UInt8[0x00]     0.85\n",
       "   2 │ UInt8[0x01]     0.85\n",
       "   3 │ UInt8[0x02]     0.85\n",
       "   4 │ UInt8[0x03]     0.85\n",
       "   5 │ UInt8[0x04]     0.85\n",
       "   6 │ UInt8[0x05]     0.85\n",
       "   7 │ UInt8[0x06]     1.0\n",
       "   8 │ UInt8[0x07]     0.85\n",
       "   9 │ UInt8[0x08]     0.85\n",
       "  10 │ UInt8[0x09]     0.85\n",
       "  11 │ UInt8[0x0a]     0.85\n",
       "  12 │ UInt8[0x0b]     0.85\n",
       "  13 │ UInt8[0x0c]     0.85\n",
       "  14 │ UInt8[0x0d]     0.85\n",
       "  15 │ UInt8[0x0e]     0.85\n",
       "  16 │ UInt8[0x0f]     0.85"
      ]
     },
     "execution_count": 154,
     "metadata": {},
     "output_type": "execute_result"
    }
   ],
   "source": [
    "fit = single_element_fitness(p,0x0006,0.85); display_pheno_vect(fit,labels) # Fitness with 100-fold advantage for 0x6"
   ]
  },
  {
   "cell_type": "code",
   "execution_count": 155,
   "id": "1e0aa2ae",
   "metadata": {},
   "outputs": [
    {
     "data": {
      "text/plain": [
       "16×16 Diagonal{Float64, Vector{Float64}}:\n",
       " 0.85   ⋅     ⋅     ⋅     ⋅     ⋅    …   ⋅     ⋅     ⋅     ⋅     ⋅     ⋅ \n",
       "  ⋅    0.85   ⋅     ⋅     ⋅     ⋅        ⋅     ⋅     ⋅     ⋅     ⋅     ⋅ \n",
       "  ⋅     ⋅    0.85   ⋅     ⋅     ⋅        ⋅     ⋅     ⋅     ⋅     ⋅     ⋅ \n",
       "  ⋅     ⋅     ⋅    0.85   ⋅     ⋅        ⋅     ⋅     ⋅     ⋅     ⋅     ⋅ \n",
       "  ⋅     ⋅     ⋅     ⋅    0.85   ⋅        ⋅     ⋅     ⋅     ⋅     ⋅     ⋅ \n",
       "  ⋅     ⋅     ⋅     ⋅     ⋅    0.85  …   ⋅     ⋅     ⋅     ⋅     ⋅     ⋅ \n",
       "  ⋅     ⋅     ⋅     ⋅     ⋅     ⋅        ⋅     ⋅     ⋅     ⋅     ⋅     ⋅ \n",
       "  ⋅     ⋅     ⋅     ⋅     ⋅     ⋅        ⋅     ⋅     ⋅     ⋅     ⋅     ⋅ \n",
       "  ⋅     ⋅     ⋅     ⋅     ⋅     ⋅        ⋅     ⋅     ⋅     ⋅     ⋅     ⋅ \n",
       "  ⋅     ⋅     ⋅     ⋅     ⋅     ⋅        ⋅     ⋅     ⋅     ⋅     ⋅     ⋅ \n",
       "  ⋅     ⋅     ⋅     ⋅     ⋅     ⋅    …  0.85   ⋅     ⋅     ⋅     ⋅     ⋅ \n",
       "  ⋅     ⋅     ⋅     ⋅     ⋅     ⋅        ⋅    0.85   ⋅     ⋅     ⋅     ⋅ \n",
       "  ⋅     ⋅     ⋅     ⋅     ⋅     ⋅        ⋅     ⋅    0.85   ⋅     ⋅     ⋅ \n",
       "  ⋅     ⋅     ⋅     ⋅     ⋅     ⋅        ⋅     ⋅     ⋅    0.85   ⋅     ⋅ \n",
       "  ⋅     ⋅     ⋅     ⋅     ⋅     ⋅        ⋅     ⋅     ⋅     ⋅    0.85   ⋅ \n",
       "  ⋅     ⋅     ⋅     ⋅     ⋅     ⋅    …   ⋅     ⋅     ⋅     ⋅     ⋅    0.85"
      ]
     },
     "execution_count": 155,
     "metadata": {},
     "output_type": "execute_result"
    }
   ],
   "source": [
    "F = Diagonal(fit)"
   ]
  },
  {
   "cell_type": "code",
   "execution_count": 134,
   "id": "1ee1994a",
   "metadata": {},
   "outputs": [
    {
     "data": {
      "text/plain": [
       "16×16 Matrix{Float64}:\n",
       " 1.04605      0.00617284   0.00657895   …  0.000771605  0.00852827\n",
       " 0.00617284   1.02733      0.000873132     0.00674139   0.000771605\n",
       " 0.00657895   0.000873132  1.01295         0.000324886  0.000974659\n",
       " 0.00164474   0.00402047   0.00158382      0.000162443  0.00164474\n",
       " 0.00657895   0.00343161   0.0011371       0.00117771   0.000974659\n",
       " 0.00810185   0.00913743   0.000426413  …  0.000974659  0.00810185\n",
       " 0.000243665  8.12216e-5   0.000243665     0.000203054  8.12216e-5\n",
       " 0.000771605  0.00259909   0.00117771      0.00235543   0.00617284\n",
       " 0.00617284   0.00235543   0.00343161      0.00259909   0.000771605\n",
       " 8.12216e-5   0.000203054  0.0             8.12216e-5   0.000243665\n",
       " 0.00810185   0.000974659  0.00402047   …  0.00913743   0.00810185\n",
       " 0.000974659  0.00117771   0.000812216     0.00343161   0.00657895\n",
       " 0.00164474   0.000162443  0.000223359     0.00402047   0.00164474\n",
       " 0.000974659  0.000324886  0.0022742       0.000873132  0.00657895\n",
       " 0.000771605  0.00674139   0.000324886     1.02733      0.00617284\n",
       " 0.00852827   0.000771605  0.000974659  …  0.00617284   1.04605"
      ]
     },
     "execution_count": 134,
     "metadata": {},
     "output_type": "execute_result"
    }
   ],
   "source": [
    "M = mutation(map(Float64,E), 1.)  # "
   ]
  },
  {
   "cell_type": "code",
   "execution_count": 160,
   "id": "7d6a3769",
   "metadata": {},
   "outputs": [
    {
     "data": {
      "text/html": [
       "<div class=\"data-frame\"><p>16 rows × 2 columns</p><table class=\"data-frame\"><thead><tr><th></th><th>phenos</th><th>values</th></tr><tr><th></th><th title=\"Vector{UInt8}\">Array…</th><th title=\"Float64\">Float64</th></tr></thead><tbody><tr><th>1</th><td>[0x00]</td><td>0.068591</td></tr><tr><th>2</th><td>[0x01]</td><td>0.0603554</td></tr><tr><th>3</th><td>[0x02]</td><td>0.0541229</td></tr><tr><th>4</th><td>[0x03]</td><td>0.0539081</td></tr><tr><th>5</th><td>[0x04]</td><td>0.0541229</td></tr><tr><th>6</th><td>[0x05]</td><td>0.0804093</td></tr><tr><th>7</th><td>[0x06]</td><td>0.0895006</td></tr><tr><th>8</th><td>[0x07]</td><td>0.0603622</td></tr><tr><th>9</th><td>[0x08]</td><td>0.0603554</td></tr><tr><th>10</th><td>[0x09]</td><td>0.0467921</td></tr><tr><th>11</th><td>[0x0a]</td><td>0.0804093</td></tr><tr><th>12</th><td>[0x0b]</td><td>0.0541093</td></tr><tr><th>13</th><td>[0x0c]</td><td>0.0539081</td></tr><tr><th>14</th><td>[0x0d]</td><td>0.0541093</td></tr><tr><th>15</th><td>[0x0e]</td><td>0.0603622</td></tr><tr><th>16</th><td>[0x0f]</td><td>0.0685817</td></tr></tbody></table></div>"
      ],
      "text/latex": [
       "\\begin{tabular}{r|cc}\n",
       "\t& phenos & values\\\\\n",
       "\t\\hline\n",
       "\t& Array… & Float64\\\\\n",
       "\t\\hline\n",
       "\t1 & [0x00] & 0.068591 \\\\\n",
       "\t2 & [0x01] & 0.0603554 \\\\\n",
       "\t3 & [0x02] & 0.0541229 \\\\\n",
       "\t4 & [0x03] & 0.0539081 \\\\\n",
       "\t5 & [0x04] & 0.0541229 \\\\\n",
       "\t6 & [0x05] & 0.0804093 \\\\\n",
       "\t7 & [0x06] & 0.0895006 \\\\\n",
       "\t8 & [0x07] & 0.0603622 \\\\\n",
       "\t9 & [0x08] & 0.0603554 \\\\\n",
       "\t10 & [0x09] & 0.0467921 \\\\\n",
       "\t11 & [0x0a] & 0.0804093 \\\\\n",
       "\t12 & [0x0b] & 0.0541093 \\\\\n",
       "\t13 & [0x0c] & 0.0539081 \\\\\n",
       "\t14 & [0x0d] & 0.0541093 \\\\\n",
       "\t15 & [0x0e] & 0.0603622 \\\\\n",
       "\t16 & [0x0f] & 0.0685817 \\\\\n",
       "\\end{tabular}\n"
      ],
      "text/plain": [
       "\u001b[1m16×2 DataFrame\u001b[0m\n",
       "\u001b[1m Row \u001b[0m│\u001b[1m phenos      \u001b[0m\u001b[1m values    \u001b[0m\n",
       "\u001b[1m     \u001b[0m│\u001b[90m Array…      \u001b[0m\u001b[90m Float64   \u001b[0m\n",
       "─────┼────────────────────────\n",
       "   1 │ UInt8[0x00]  0.068591\n",
       "   2 │ UInt8[0x01]  0.0603554\n",
       "   3 │ UInt8[0x02]  0.0541229\n",
       "   4 │ UInt8[0x03]  0.0539081\n",
       "   5 │ UInt8[0x04]  0.0541229\n",
       "   6 │ UInt8[0x05]  0.0804093\n",
       "   7 │ UInt8[0x06]  0.0895006\n",
       "   8 │ UInt8[0x07]  0.0603622\n",
       "   9 │ UInt8[0x08]  0.0603554\n",
       "  10 │ UInt8[0x09]  0.0467921\n",
       "  11 │ UInt8[0x0a]  0.0804093\n",
       "  12 │ UInt8[0x0b]  0.0541093\n",
       "  13 │ UInt8[0x0c]  0.0539081\n",
       "  14 │ UInt8[0x0d]  0.0541093\n",
       "  15 │ UInt8[0x0e]  0.0603622\n",
       "  16 │ UInt8[0x0f]  0.0685817"
      ]
     },
     "execution_count": 160,
     "metadata": {},
     "output_type": "execute_result"
    }
   ],
   "source": [
    "display_pheno_vect( normalize((F*M)^4*P), labels) # The 0x6 component is slightly larger than the 0x5 component"
   ]
  },
  {
   "cell_type": "code",
   "execution_count": 104,
   "id": "220adc60",
   "metadata": {},
   "outputs": [
    {
     "data": {
      "text/html": [
       "<div class=\"data-frame\"><p>16 rows × 2 columns</p><table class=\"data-frame\"><thead><tr><th></th><th>phenos</th><th>values</th></tr><tr><th></th><th title=\"Vector{UInt8}\">Array…</th><th title=\"Float64\">Float64</th></tr></thead><tbody><tr><th>1</th><td>[0x00]</td><td>0.174283</td></tr><tr><th>2</th><td>[0x01]</td><td>0.090166</td></tr><tr><th>3</th><td>[0x02]</td><td>0.0442081</td></tr><tr><th>4</th><td>[0x03]</td><td>0.0185375</td></tr><tr><th>5</th><td>[0x04]</td><td>0.0442081</td></tr><tr><th>6</th><td>[0x05]</td><td>0.520246</td></tr><tr><th>7</th><td>[0x06]</td><td>0.597832</td></tr><tr><th>8</th><td>[0x07]</td><td>0.0908115</td></tr><tr><th>9</th><td>[0x08]</td><td>0.090166</td></tr><tr><th>10</th><td>[0x09]</td><td>0.00190574</td></tr><tr><th>11</th><td>[0x0a]</td><td>0.520246</td></tr><tr><th>12</th><td>[0x0b]</td><td>0.0427566</td></tr><tr><th>13</th><td>[0x0c]</td><td>0.0185375</td></tr><tr><th>14</th><td>[0x0d]</td><td>0.0427566</td></tr><tr><th>15</th><td>[0x0e]</td><td>0.0908115</td></tr><tr><th>16</th><td>[0x0f]</td><td>0.172915</td></tr></tbody></table></div>"
      ],
      "text/latex": [
       "\\begin{tabular}{r|cc}\n",
       "\t& phenos & values\\\\\n",
       "\t\\hline\n",
       "\t& Array… & Float64\\\\\n",
       "\t\\hline\n",
       "\t1 & [0x00] & 0.174283 \\\\\n",
       "\t2 & [0x01] & 0.090166 \\\\\n",
       "\t3 & [0x02] & 0.0442081 \\\\\n",
       "\t4 & [0x03] & 0.0185375 \\\\\n",
       "\t5 & [0x04] & 0.0442081 \\\\\n",
       "\t6 & [0x05] & 0.520246 \\\\\n",
       "\t7 & [0x06] & 0.597832 \\\\\n",
       "\t8 & [0x07] & 0.0908115 \\\\\n",
       "\t9 & [0x08] & 0.090166 \\\\\n",
       "\t10 & [0x09] & 0.00190574 \\\\\n",
       "\t11 & [0x0a] & 0.520246 \\\\\n",
       "\t12 & [0x0b] & 0.0427566 \\\\\n",
       "\t13 & [0x0c] & 0.0185375 \\\\\n",
       "\t14 & [0x0d] & 0.0427566 \\\\\n",
       "\t15 & [0x0e] & 0.0908115 \\\\\n",
       "\t16 & [0x0f] & 0.172915 \\\\\n",
       "\\end{tabular}\n"
      ],
      "text/plain": [
       "\u001b[1m16×2 DataFrame\u001b[0m\n",
       "\u001b[1m Row \u001b[0m│\u001b[1m phenos      \u001b[0m\u001b[1m values     \u001b[0m\n",
       "\u001b[1m     \u001b[0m│\u001b[90m Array…      \u001b[0m\u001b[90m Float64    \u001b[0m\n",
       "─────┼─────────────────────────\n",
       "   1 │ UInt8[0x00]  0.174283\n",
       "   2 │ UInt8[0x01]  0.090166\n",
       "   3 │ UInt8[0x02]  0.0442081\n",
       "   4 │ UInt8[0x03]  0.0185375\n",
       "   5 │ UInt8[0x04]  0.0442081\n",
       "   6 │ UInt8[0x05]  0.520246\n",
       "   7 │ UInt8[0x06]  0.597832\n",
       "   8 │ UInt8[0x07]  0.0908115\n",
       "   9 │ UInt8[0x08]  0.090166\n",
       "  10 │ UInt8[0x09]  0.00190574\n",
       "  11 │ UInt8[0x0a]  0.520246\n",
       "  12 │ UInt8[0x0b]  0.0427566\n",
       "  13 │ UInt8[0x0c]  0.0185375\n",
       "  14 │ UInt8[0x0d]  0.0427566\n",
       "  15 │ UInt8[0x0e]  0.0908115\n",
       "  16 │ UInt8[0x0f]  0.172915"
      ]
     },
     "execution_count": 104,
     "metadata": {},
     "output_type": "execute_result"
    }
   ],
   "source": [
    "EV= eigen(F*M); display_pheno_vect( -EV.vectors[:,end], labels )  # The 0x6 component is slightly larger than the 0x5 component\n",
    "# This shows that the bias of the G-P map has been overcome"
   ]
  },
  {
   "cell_type": "code",
   "execution_count": 159,
   "id": "0fd60035",
   "metadata": {},
   "outputs": [
    {
     "data": {
      "text/html": [
       "<div class=\"data-frame\"><p>16 rows × 2 columns</p><table class=\"data-frame\"><thead><tr><th></th><th>phenos</th><th>values</th></tr><tr><th></th><th title=\"Vector{UInt8}\">Array…</th><th title=\"Float64\">Float64</th></tr></thead><tbody><tr><th>1</th><td>[0x00]</td><td>0.069739</td></tr><tr><th>2</th><td>[0x01]</td><td>0.0596338</td></tr><tr><th>3</th><td>[0x02]</td><td>0.0520971</td></tr><tr><th>4</th><td>[0x03]</td><td>0.0517484</td></tr><tr><th>5</th><td>[0x04]</td><td>0.0520971</td></tr><tr><th>6</th><td>[0x05]</td><td>0.0847301</td></tr><tr><th>7</th><td>[0x06]</td><td>0.0973664</td></tr><tr><th>8</th><td>[0x07]</td><td>0.0596449</td></tr><tr><th>9</th><td>[0x08]</td><td>0.0596338</td></tr><tr><th>10</th><td>[0x09]</td><td>0.0433131</td></tr><tr><th>11</th><td>[0x0a]</td><td>0.0847301</td></tr><tr><th>12</th><td>[0x0b]</td><td>0.0520747</td></tr><tr><th>13</th><td>[0x0c]</td><td>0.0517484</td></tr><tr><th>14</th><td>[0x0d]</td><td>0.0520747</td></tr><tr><th>15</th><td>[0x0e]</td><td>0.0596449</td></tr><tr><th>16</th><td>[0x0f]</td><td>0.0697236</td></tr></tbody></table></div>"
      ],
      "text/latex": [
       "\\begin{tabular}{r|cc}\n",
       "\t& phenos & values\\\\\n",
       "\t\\hline\n",
       "\t& Array… & Float64\\\\\n",
       "\t\\hline\n",
       "\t1 & [0x00] & 0.069739 \\\\\n",
       "\t2 & [0x01] & 0.0596338 \\\\\n",
       "\t3 & [0x02] & 0.0520971 \\\\\n",
       "\t4 & [0x03] & 0.0517484 \\\\\n",
       "\t5 & [0x04] & 0.0520971 \\\\\n",
       "\t6 & [0x05] & 0.0847301 \\\\\n",
       "\t7 & [0x06] & 0.0973664 \\\\\n",
       "\t8 & [0x07] & 0.0596449 \\\\\n",
       "\t9 & [0x08] & 0.0596338 \\\\\n",
       "\t10 & [0x09] & 0.0433131 \\\\\n",
       "\t11 & [0x0a] & 0.0847301 \\\\\n",
       "\t12 & [0x0b] & 0.0520747 \\\\\n",
       "\t13 & [0x0c] & 0.0517484 \\\\\n",
       "\t14 & [0x0d] & 0.0520747 \\\\\n",
       "\t15 & [0x0e] & 0.0596449 \\\\\n",
       "\t16 & [0x0f] & 0.0697236 \\\\\n",
       "\\end{tabular}\n"
      ],
      "text/plain": [
       "\u001b[1m16×2 DataFrame\u001b[0m\n",
       "\u001b[1m Row \u001b[0m│\u001b[1m phenos      \u001b[0m\u001b[1m values    \u001b[0m\n",
       "\u001b[1m     \u001b[0m│\u001b[90m Array…      \u001b[0m\u001b[90m Float64   \u001b[0m\n",
       "─────┼────────────────────────\n",
       "   1 │ UInt8[0x00]  0.069739\n",
       "   2 │ UInt8[0x01]  0.0596338\n",
       "   3 │ UInt8[0x02]  0.0520971\n",
       "   4 │ UInt8[0x03]  0.0517484\n",
       "   5 │ UInt8[0x04]  0.0520971\n",
       "   6 │ UInt8[0x05]  0.0847301\n",
       "   7 │ UInt8[0x06]  0.0973664\n",
       "   8 │ UInt8[0x07]  0.0596449\n",
       "   9 │ UInt8[0x08]  0.0596338\n",
       "  10 │ UInt8[0x09]  0.0433131\n",
       "  11 │ UInt8[0x0a]  0.0847301\n",
       "  12 │ UInt8[0x0b]  0.0520747\n",
       "  13 │ UInt8[0x0c]  0.0517484\n",
       "  14 │ UInt8[0x0d]  0.0520747\n",
       "  15 │ UInt8[0x0e]  0.0596449\n",
       "  16 │ UInt8[0x0f]  0.0697236"
      ]
     },
     "execution_count": 159,
     "metadata": {},
     "output_type": "execute_result"
    }
   ],
   "source": [
    "display_pheno_vect( normalize((F*M)^5*fill(1/16,16)), labels )  # background fitness of 0.85 gives a modest superiority of 0x6"
   ]
  },
  {
   "cell_type": "code",
   "execution_count": 158,
   "id": "a0ebd40d",
   "metadata": {},
   "outputs": [
    {
     "data": {
      "text/html": [
       "<div class=\"data-frame\"><p>16 rows × 2 columns</p><table class=\"data-frame\"><thead><tr><th></th><th>phenos</th><th>values</th></tr><tr><th></th><th title=\"Vector{UInt8}\">Array…</th><th title=\"Float64\">Float64</th></tr></thead><tbody><tr><th>1</th><td>[0x00]</td><td>0.069739</td></tr><tr><th>2</th><td>[0x01]</td><td>0.0596338</td></tr><tr><th>3</th><td>[0x02]</td><td>0.0520971</td></tr><tr><th>4</th><td>[0x03]</td><td>0.0517484</td></tr><tr><th>5</th><td>[0x04]</td><td>0.0520971</td></tr><tr><th>6</th><td>[0x05]</td><td>0.0847301</td></tr><tr><th>7</th><td>[0x06]</td><td>0.0973664</td></tr><tr><th>8</th><td>[0x07]</td><td>0.0596449</td></tr><tr><th>9</th><td>[0x08]</td><td>0.0596338</td></tr><tr><th>10</th><td>[0x09]</td><td>0.0433131</td></tr><tr><th>11</th><td>[0x0a]</td><td>0.0847301</td></tr><tr><th>12</th><td>[0x0b]</td><td>0.0520747</td></tr><tr><th>13</th><td>[0x0c]</td><td>0.0517484</td></tr><tr><th>14</th><td>[0x0d]</td><td>0.0520747</td></tr><tr><th>15</th><td>[0x0e]</td><td>0.0596449</td></tr><tr><th>16</th><td>[0x0f]</td><td>0.0697236</td></tr></tbody></table></div>"
      ],
      "text/latex": [
       "\\begin{tabular}{r|cc}\n",
       "\t& phenos & values\\\\\n",
       "\t\\hline\n",
       "\t& Array… & Float64\\\\\n",
       "\t\\hline\n",
       "\t1 & [0x00] & 0.069739 \\\\\n",
       "\t2 & [0x01] & 0.0596338 \\\\\n",
       "\t3 & [0x02] & 0.0520971 \\\\\n",
       "\t4 & [0x03] & 0.0517484 \\\\\n",
       "\t5 & [0x04] & 0.0520971 \\\\\n",
       "\t6 & [0x05] & 0.0847301 \\\\\n",
       "\t7 & [0x06] & 0.0973664 \\\\\n",
       "\t8 & [0x07] & 0.0596449 \\\\\n",
       "\t9 & [0x08] & 0.0596338 \\\\\n",
       "\t10 & [0x09] & 0.0433131 \\\\\n",
       "\t11 & [0x0a] & 0.0847301 \\\\\n",
       "\t12 & [0x0b] & 0.0520747 \\\\\n",
       "\t13 & [0x0c] & 0.0517484 \\\\\n",
       "\t14 & [0x0d] & 0.0520747 \\\\\n",
       "\t15 & [0x0e] & 0.0596449 \\\\\n",
       "\t16 & [0x0f] & 0.0697236 \\\\\n",
       "\\end{tabular}\n"
      ],
      "text/plain": [
       "\u001b[1m16×2 DataFrame\u001b[0m\n",
       "\u001b[1m Row \u001b[0m│\u001b[1m phenos      \u001b[0m\u001b[1m values    \u001b[0m\n",
       "\u001b[1m     \u001b[0m│\u001b[90m Array…      \u001b[0m\u001b[90m Float64   \u001b[0m\n",
       "─────┼────────────────────────\n",
       "   1 │ UInt8[0x00]  0.069739\n",
       "   2 │ UInt8[0x01]  0.0596338\n",
       "   3 │ UInt8[0x02]  0.0520971\n",
       "   4 │ UInt8[0x03]  0.0517484\n",
       "   5 │ UInt8[0x04]  0.0520971\n",
       "   6 │ UInt8[0x05]  0.0847301\n",
       "   7 │ UInt8[0x06]  0.0973664\n",
       "   8 │ UInt8[0x07]  0.0596449\n",
       "   9 │ UInt8[0x08]  0.0596338\n",
       "  10 │ UInt8[0x09]  0.0433131\n",
       "  11 │ UInt8[0x0a]  0.0847301\n",
       "  12 │ UInt8[0x0b]  0.0520747\n",
       "  13 │ UInt8[0x0c]  0.0517484\n",
       "  14 │ UInt8[0x0d]  0.0520747\n",
       "  15 │ UInt8[0x0e]  0.0596449\n",
       "  16 │ UInt8[0x0f]  0.0697236"
      ]
     },
     "execution_count": 158,
     "metadata": {},
     "output_type": "execute_result"
    }
   ],
   "source": [
    "display_pheno_vect( mx, labels ) \n"
   ]
  }
 ],
 "metadata": {
  "kernelspec": {
   "display_name": "Julia 1.8.5",
   "language": "julia",
   "name": "julia-1.8"
  },
  "language_info": {
   "file_extension": ".jl",
   "mimetype": "application/julia",
   "name": "julia",
   "version": "1.8.5"
  }
 },
 "nbformat": 4,
 "nbformat_minor": 5
}
