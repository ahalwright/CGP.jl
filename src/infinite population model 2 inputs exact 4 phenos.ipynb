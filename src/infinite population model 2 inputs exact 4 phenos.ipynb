{
 "cells": [
  {
   "cell_type": "code",
   "execution_count": 1,
   "id": "0a0e7125",
   "metadata": {},
   "outputs": [
    {
     "data": {
      "text/plain": [
       "\"/Users/oldmtnbiker/Library/CloudStorage/OneDrive-Personal/evotech/CGP.jl/src\""
      ]
     },
     "execution_count": 1,
     "metadata": {},
     "output_type": "execute_result"
    }
   ],
   "source": [
    "pwd()"
   ]
  },
  {
   "cell_type": "code",
   "execution_count": 2,
   "id": "d076b0b0",
   "metadata": {},
   "outputs": [
    {
     "data": {
      "text/plain": [
       "UInt16"
      ]
     },
     "execution_count": 2,
     "metadata": {},
     "output_type": "execute_result"
    }
   ],
   "source": [
    "include(\"CGP.jl\")"
   ]
  },
  {
   "cell_type": "code",
   "execution_count": 3,
   "id": "bd04ea39",
   "metadata": {},
   "outputs": [
    {
     "data": {
      "text/plain": [
       "evolvability_list_filtered (generic function with 2 methods)"
      ]
     },
     "execution_count": 3,
     "metadata": {},
     "output_type": "execute_result"
    }
   ],
   "source": [
    "include(\"evolvable_evolvability.jl\")"
   ]
  },
  {
   "cell_type": "code",
   "execution_count": 87,
   "id": "fa93ac6f",
   "metadata": {},
   "outputs": [
    {
     "data": {
      "text/plain": [
       "display_pheno_vects (generic function with 3 methods)"
      ]
     },
     "execution_count": 87,
     "metadata": {},
     "output_type": "execute_result"
    }
   ],
   "source": [
    "include(\"InfPop.jl\")"
   ]
  },
  {
   "cell_type": "code",
   "execution_count": 79,
   "id": "43aaf114",
   "metadata": {},
   "outputs": [],
   "source": [
    "using LinearAlgebra"
   ]
  },
  {
   "cell_type": "code",
   "execution_count": 38,
   "id": "6772ff8c",
   "metadata": {},
   "outputs": [],
   "source": [
    "idf = read_dataframe(\"../data/9_24_22/exact_phnet_matrix9_24_22I.csv\");"
   ]
  },
  {
   "cell_type": "code",
   "execution_count": 110,
   "id": "65f0acc8",
   "metadata": {},
   "outputs": [
    {
     "data": {
      "text/plain": [
       "4×4 Matrix{Int64}:\n",
       " 32   8  16   0\n",
       "  8  28   0  12\n",
       " 16   0  12   4\n",
       "  0  12   4  16"
      ]
     },
     "execution_count": 110,
     "metadata": {},
     "output_type": "execute_result"
    }
   ],
   "source": [
    "E=map(Int,df_to_matrix( idf, 2 )); E= E[1:4,1:4]"
   ]
  },
  {
   "cell_type": "code",
   "execution_count": 40,
   "id": "eb91f437",
   "metadata": {},
   "outputs": [
    {
     "data": {
      "text/plain": [
       "4-element Vector{Int64}:\n",
       " 1\n",
       " 1\n",
       " 1\n",
       " 1"
      ]
     },
     "execution_count": 40,
     "metadata": {},
     "output_type": "execute_result"
    }
   ],
   "source": [
    "P=fill(1,4)  # Initial uniform population"
   ]
  },
  {
   "cell_type": "code",
   "execution_count": 41,
   "id": "a94ae6d2",
   "metadata": {},
   "outputs": [
    {
     "data": {
      "text/plain": [
       "4-element Vector{Vector{UInt8}}:\n",
       " [0x00]\n",
       " [0x01]\n",
       " [0x02]\n",
       " [0x03]"
      ]
     },
     "execution_count": 41,
     "metadata": {},
     "output_type": "execute_result"
    }
   ],
   "source": [
    "labels = map(x->[x],0x0:0x3)"
   ]
  },
  {
   "cell_type": "code",
   "execution_count": 111,
   "id": "4e2d4fad",
   "metadata": {},
   "outputs": [
    {
     "data": {
      "text/html": [
       "<div class=\"data-frame\"><p>4 rows × 2 columns</p><table class=\"data-frame\"><thead><tr><th></th><th>phenos</th><th>values</th></tr><tr><th></th><th title=\"Vector{UInt8}\">Array…</th><th title=\"Int64\">Int64</th></tr></thead><tbody><tr><th>1</th><td>[0x00]</td><td>56</td></tr><tr><th>2</th><td>[0x01]</td><td>48</td></tr><tr><th>3</th><td>[0x02]</td><td>32</td></tr><tr><th>4</th><td>[0x03]</td><td>32</td></tr></tbody></table></div>"
      ],
      "text/latex": [
       "\\begin{tabular}{r|cc}\n",
       "\t& phenos & values\\\\\n",
       "\t\\hline\n",
       "\t& Array… & Int64\\\\\n",
       "\t\\hline\n",
       "\t1 & [0x00] & 56 \\\\\n",
       "\t2 & [0x01] & 48 \\\\\n",
       "\t3 & [0x02] & 32 \\\\\n",
       "\t4 & [0x03] & 32 \\\\\n",
       "\\end{tabular}\n"
      ],
      "text/plain": [
       "\u001b[1m4×2 DataFrame\u001b[0m\n",
       "\u001b[1m Row \u001b[0m│\u001b[1m phenos      \u001b[0m\u001b[1m values \u001b[0m\n",
       "\u001b[1m     \u001b[0m│\u001b[90m Array…      \u001b[0m\u001b[90m Int64  \u001b[0m\n",
       "─────┼─────────────────────\n",
       "   1 │ UInt8[0x00]      56\n",
       "   2 │ UInt8[0x01]      48\n",
       "   3 │ UInt8[0x02]      32\n",
       "   4 │ UInt8[0x03]      32"
      ]
     },
     "execution_count": 111,
     "metadata": {},
     "output_type": "execute_result"
    }
   ],
   "source": [
    " display_pheno_vect( vec(E*P),labels )  # 1 generation of mutation with no selection"
   ]
  },
  {
   "cell_type": "code",
   "execution_count": 66,
   "id": "c4ffde83",
   "metadata": {},
   "outputs": [
    {
     "data": {
      "text/plain": [
       "4-element Vector{Vector{UInt8}}:\n",
       " [0x00]\n",
       " [0x01]\n",
       " [0x02]\n",
       " [0x03]"
      ]
     },
     "execution_count": 66,
     "metadata": {},
     "output_type": "execute_result"
    }
   ],
   "source": [
    "row_labels = [[0x0],[0x01],[0x2],[0x3]]"
   ]
  },
  {
   "cell_type": "code",
   "execution_count": 112,
   "id": "1da1dbb8",
   "metadata": {
    "scrolled": true
   },
   "outputs": [
    {
     "data": {
      "text/html": [
       "<div class=\"data-frame\"><p>4 rows × 3 columns</p><table class=\"data-frame\"><thead><tr><th></th><th>labels</th><th>value1</th><th>value2</th></tr><tr><th></th><th title=\"Vector{UInt8}\">Array…</th><th title=\"Float64\">Float64</th><th title=\"Float64\">Float64</th></tr></thead><tbody><tr><th>1</th><td>[0x00]</td><td>0.333333</td><td>0.358974</td></tr><tr><th>2</th><td>[0x01]</td><td>0.285714</td><td>0.290598</td></tr><tr><th>3</th><td>[0x02]</td><td>0.190476</td><td>0.188034</td></tr><tr><th>4</th><td>[0x03]</td><td>0.190476</td><td>0.162393</td></tr></tbody></table></div>"
      ],
      "text/latex": [
       "\\begin{tabular}{r|ccc}\n",
       "\t& labels & value1 & value2\\\\\n",
       "\t\\hline\n",
       "\t& Array… & Float64 & Float64\\\\\n",
       "\t\\hline\n",
       "\t1 & [0x00] & 0.333333 & 0.358974 \\\\\n",
       "\t2 & [0x01] & 0.285714 & 0.290598 \\\\\n",
       "\t3 & [0x02] & 0.190476 & 0.188034 \\\\\n",
       "\t4 & [0x03] & 0.190476 & 0.162393 \\\\\n",
       "\\end{tabular}\n"
      ],
      "text/plain": [
       "\u001b[1m4×3 DataFrame\u001b[0m\n",
       "\u001b[1m Row \u001b[0m│\u001b[1m labels      \u001b[0m\u001b[1m value1   \u001b[0m\u001b[1m value2   \u001b[0m\n",
       "\u001b[1m     \u001b[0m│\u001b[90m Array…      \u001b[0m\u001b[90m Float64  \u001b[0m\u001b[90m Float64  \u001b[0m\n",
       "─────┼─────────────────────────────────\n",
       "   1 │ UInt8[0x00]  0.333333  0.358974\n",
       "   2 │ UInt8[0x01]  0.285714  0.290598\n",
       "   3 │ UInt8[0x02]  0.190476  0.188034\n",
       "   4 │ UInt8[0x03]  0.190476  0.162393"
      ]
     },
     "execution_count": 112,
     "metadata": {},
     "output_type": "execute_result"
    }
   ],
   "source": [
    "display_pheno_vects( [vec(E*P)/sum(E*P), vec(E^2*P)/sum(E^2*P)],row_labels )  # 1 and 2 generations of mutation with no selection"
   ]
  },
  {
   "cell_type": "code",
   "execution_count": 36,
   "id": "9b809fb1",
   "metadata": {},
   "outputs": [
    {
     "data": {
      "text/html": [
       "<div class=\"data-frame\"><p>4 rows × 2 columns</p><table class=\"data-frame\"><thead><tr><th></th><th>phenos</th><th>values</th></tr><tr><th></th><th title=\"Vector{UInt8}\">Array…</th><th title=\"Float64\">Float64</th></tr></thead><tbody><tr><th>1</th><td>[0x00]</td><td>0.383482</td></tr><tr><th>2</th><td>[0x01]</td><td>0.277525</td></tr><tr><th>3</th><td>[0x02]</td><td>0.196867</td></tr><tr><th>4</th><td>[0x03]</td><td>0.142126</td></tr></tbody></table></div>"
      ],
      "text/latex": [
       "\\begin{tabular}{r|cc}\n",
       "\t& phenos & values\\\\\n",
       "\t\\hline\n",
       "\t& Array… & Float64\\\\\n",
       "\t\\hline\n",
       "\t1 & [0x00] & 0.383482 \\\\\n",
       "\t2 & [0x01] & 0.277525 \\\\\n",
       "\t3 & [0x02] & 0.196867 \\\\\n",
       "\t4 & [0x03] & 0.142126 \\\\\n",
       "\\end{tabular}\n"
      ],
      "text/plain": [
       "\u001b[1m4×2 DataFrame\u001b[0m\n",
       "\u001b[1m Row \u001b[0m│\u001b[1m phenos      \u001b[0m\u001b[1m values   \u001b[0m\n",
       "\u001b[1m     \u001b[0m│\u001b[90m Array…      \u001b[0m\u001b[90m Float64  \u001b[0m\n",
       "─────┼───────────────────────\n",
       "   1 │ UInt8[0x00]  0.383482\n",
       "   2 │ UInt8[0x01]  0.277525\n",
       "   3 │ UInt8[0x02]  0.196867\n",
       "   4 │ UInt8[0x03]  0.142126"
      ]
     },
     "execution_count": 36,
     "metadata": {},
     "output_type": "execute_result"
    }
   ],
   "source": [
    "display_pheno_vect( vec(E^5*P)/sum(E^5*P),labels )  # 5 generations of mutation with no selection"
   ]
  },
  {
   "cell_type": "code",
   "execution_count": 127,
   "id": "37d041af",
   "metadata": {
    "scrolled": true
   },
   "outputs": [
    {
     "data": {
      "text/html": [
       "<div class=\"data-frame\"><p>4 rows × 2 columns</p><table class=\"data-frame\"><thead><tr><th></th><th>phenos</th><th>values</th></tr><tr><th></th><th title=\"Vector{UInt8}\">Array…</th><th title=\"Float64\">Float64</th></tr></thead><tbody><tr><th>1</th><td>[0x00]</td><td>0.25</td></tr><tr><th>2</th><td>[0x01]</td><td>0.25</td></tr><tr><th>3</th><td>[0x02]</td><td>1.0</td></tr><tr><th>4</th><td>[0x03]</td><td>0.25</td></tr></tbody></table></div>"
      ],
      "text/latex": [
       "\\begin{tabular}{r|cc}\n",
       "\t& phenos & values\\\\\n",
       "\t\\hline\n",
       "\t& Array… & Float64\\\\\n",
       "\t\\hline\n",
       "\t1 & [0x00] & 0.25 \\\\\n",
       "\t2 & [0x01] & 0.25 \\\\\n",
       "\t3 & [0x02] & 1.0 \\\\\n",
       "\t4 & [0x03] & 0.25 \\\\\n",
       "\\end{tabular}\n"
      ],
      "text/plain": [
       "\u001b[1m4×2 DataFrame\u001b[0m\n",
       "\u001b[1m Row \u001b[0m│\u001b[1m phenos      \u001b[0m\u001b[1m values  \u001b[0m\n",
       "\u001b[1m     \u001b[0m│\u001b[90m Array…      \u001b[0m\u001b[90m Float64 \u001b[0m\n",
       "─────┼──────────────────────\n",
       "   1 │ UInt8[0x00]     0.25\n",
       "   2 │ UInt8[0x01]     0.25\n",
       "   3 │ UInt8[0x02]     1.0\n",
       "   4 │ UInt8[0x03]     0.25"
      ]
     },
     "execution_count": 127,
     "metadata": {},
     "output_type": "execute_result"
    }
   ],
   "source": [
    "F = single_element_fitness(4,0x0002,0.25); display_pheno_vect(F,labels)  # Fitness with 4-fold advantage for 0x2"
   ]
  },
  {
   "cell_type": "code",
   "execution_count": 113,
   "id": "2496a540",
   "metadata": {},
   "outputs": [
    {
     "data": {
      "text/plain": [
       "4×4 Matrix{Int64}:\n",
       " 32   8  16   0\n",
       "  8  28   0  12\n",
       " 16   0  12   4\n",
       "  0  12   4  16"
      ]
     },
     "execution_count": 113,
     "metadata": {},
     "output_type": "execute_result"
    }
   ],
   "source": [
    "E"
   ]
  },
  {
   "cell_type": "code",
   "execution_count": 132,
   "id": "6d598754",
   "metadata": {},
   "outputs": [
    {
     "data": {
      "text/plain": [
       "4×4 Matrix{Float64}:\n",
       "  8.0  2.0   4.0  0.0\n",
       "  2.0  7.0   0.0  3.0\n",
       " 16.0  0.0  12.0  4.0\n",
       "  0.0  3.0   1.0  4.0"
      ]
     },
     "execution_count": 132,
     "metadata": {},
     "output_type": "execute_result"
    }
   ],
   "source": [
    "Diagonal(F)*E"
   ]
  },
  {
   "cell_type": "code",
   "execution_count": 133,
   "id": "890edac5",
   "metadata": {},
   "outputs": [
    {
     "data": {
      "text/plain": [
       "4-element Vector{Float64}:\n",
       " 14.0\n",
       " 12.0\n",
       " 32.0\n",
       "  8.0"
      ]
     },
     "execution_count": 133,
     "metadata": {},
     "output_type": "execute_result"
    }
   ],
   "source": [
    "Diagonal(F)*E*P"
   ]
  },
  {
   "cell_type": "code",
   "execution_count": 134,
   "id": "7d6a3769",
   "metadata": {},
   "outputs": [
    {
     "data": {
      "text/plain": [
       "4-element Vector{Float64}:\n",
       " 264.0\n",
       " 136.0\n",
       " 640.0\n",
       " 100.0"
      ]
     },
     "execution_count": 134,
     "metadata": {},
     "output_type": "execute_result"
    }
   ],
   "source": [
    "(Diagonal(F)*E)^2*P"
   ]
  },
  {
   "cell_type": "code",
   "execution_count": 109,
   "id": "230a6779",
   "metadata": {},
   "outputs": [
    {
     "data": {
      "text/plain": [
       "1×4 adjoint(::Vector{Float64}) with eltype Float64:\n",
       " 0.001  0.001  1.0  0.001"
      ]
     },
     "execution_count": 109,
     "metadata": {},
     "output_type": "execute_result"
    }
   ],
   "source": [
    "P'*Diagonal(F)"
   ]
  },
  {
   "cell_type": "code",
   "execution_count": 136,
   "id": "220adc60",
   "metadata": {},
   "outputs": [
    {
     "data": {
      "text/plain": [
       "4-element Vector{Float64}:\n",
       " 0.24844414412490934\n",
       " 0.06373570444710783\n",
       " 0.6291976371187251\n",
       " 0.058622514309257696"
      ]
     },
     "execution_count": 136,
     "metadata": {},
     "output_type": "execute_result"
    }
   ],
   "source": [
    "normalize( (Diagonal(F)*E)^5*P )"
   ]
  },
  {
   "cell_type": "code",
   "execution_count": null,
   "id": "2e91a417",
   "metadata": {
    "collapsed": true
   },
   "outputs": [],
   "source": []
  }
 ],
 "metadata": {
  "kernelspec": {
   "display_name": "Julia 1.8.5",
   "language": "julia",
   "name": "julia-1.8"
  },
  "language_info": {
   "file_extension": ".jl",
   "mimetype": "application/julia",
   "name": "julia",
   "version": "1.8.5"
  }
 },
 "nbformat": 4,
 "nbformat_minor": 5
}
