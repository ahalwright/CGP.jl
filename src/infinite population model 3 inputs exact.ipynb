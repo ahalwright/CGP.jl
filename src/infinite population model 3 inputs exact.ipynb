{
 "cells": [
  {
   "cell_type": "code",
   "execution_count": 1,
   "id": "0a0e7125",
   "metadata": {},
   "outputs": [
    {
     "data": {
      "text/plain": [
       "\"/Users/oldmtnbiker/Library/CloudStorage/OneDrive-Personal/evotech/CGP.jl/src\""
      ]
     },
     "execution_count": 1,
     "metadata": {},
     "output_type": "execute_result"
    }
   ],
   "source": [
    "pwd()"
   ]
  },
  {
   "cell_type": "code",
   "execution_count": 2,
   "id": "daf138e2",
   "metadata": {},
   "outputs": [],
   "source": [
    "using LinearAlgebra"
   ]
  },
  {
   "cell_type": "code",
   "execution_count": 3,
   "id": "d076b0b0",
   "metadata": {},
   "outputs": [
    {
     "data": {
      "text/plain": [
       "UInt16"
      ]
     },
     "execution_count": 3,
     "metadata": {},
     "output_type": "execute_result"
    }
   ],
   "source": [
    "include(\"CGP.jl\")"
   ]
  },
  {
   "cell_type": "code",
   "execution_count": 4,
   "id": "bd04ea39",
   "metadata": {},
   "outputs": [
    {
     "data": {
      "text/plain": [
       "evolvability_list_filtered (generic function with 2 methods)"
      ]
     },
     "execution_count": 4,
     "metadata": {},
     "output_type": "execute_result"
    }
   ],
   "source": [
    "include(\"evolvable_evolvability.jl\")"
   ]
  },
  {
   "cell_type": "code",
   "execution_count": 7,
   "id": "fa93ac6f",
   "metadata": {},
   "outputs": [
    {
     "data": {
      "text/plain": [
       "mutation (generic function with 1 method)"
      ]
     },
     "execution_count": 7,
     "metadata": {},
     "output_type": "execute_result"
    }
   ],
   "source": [
    "include(\"InfPop.jl\")"
   ]
  },
  {
   "cell_type": "code",
   "execution_count": 8,
   "id": "efd914ef",
   "metadata": {},
   "outputs": [
    {
     "data": {
      "text/plain": [
       "4-element Vector{Func}:\n",
       " Func(&, 2, \"AND\")\n",
       " Func(|, 2, \"OR\")\n",
       " Func(Main.CGP.Nand, 2, \"NAND\")\n",
       " Func(Main.CGP.Nor, 2, \"NOR\")"
      ]
     },
     "execution_count": 8,
     "metadata": {},
     "output_type": "execute_result"
    }
   ],
   "source": [
    "p = Parameters(3,1,8,4);funcs=default_funcs(p)[1:4]"
   ]
  },
  {
   "cell_type": "code",
   "execution_count": 9,
   "id": "7b55ae36",
   "metadata": {},
   "outputs": [
    {
     "data": {
      "text/html": [
       "<div class=\"data-frame\"><p>256 rows × 260 columns (omitted printing of 253 columns)</p><table class=\"data-frame\"><thead><tr><th></th><th>goal</th><th>d_evolvability</th><th>s_evolvability</th><th>t_evolvability</th><th>0x0</th><th>0x1</th><th>0x2</th></tr><tr><th></th><th title=\"String7\">String7</th><th title=\"Int64\">Int64</th><th title=\"Int64\">Int64</th><th title=\"Int64\">Int64</th><th title=\"Int64\">Int64</th><th title=\"Int64\">Int64</th><th title=\"Int64\">Int64</th></tr></thead><tbody><tr><th>1</th><td>0x0</td><td>245</td><td>2386637</td><td>247</td><td>8448871</td><td>46321</td><td>44614</td></tr><tr><th>2</th><td>0x1</td><td>206</td><td>188369</td><td>211</td><td>46277</td><td>191384</td><td>4455</td></tr><tr><th>3</th><td>0x2</td><td>198</td><td>130874</td><td>211</td><td>44158</td><td>4464</td><td>124506</td></tr><tr><th>4</th><td>0x3</td><td>178</td><td>250704</td><td>186</td><td>48454</td><td>18144</td><td>10842</td></tr><tr><th>5</th><td>0x4</td><td>193</td><td>99828</td><td>198</td><td>34146</td><td>3922</td><td>916</td></tr><tr><th>6</th><td>0x5</td><td>180</td><td>314932</td><td>193</td><td>69480</td><td>19434</td><td>262</td></tr><tr><th>7</th><td>0x6</td><td>100</td><td>1641</td><td>121</td><td>205</td><td>21</td><td>189</td></tr><tr><th>8</th><td>0x7</td><td>139</td><td>33601</td><td>156</td><td>3400</td><td>797</td><td>562</td></tr><tr><th>9</th><td>0x8</td><td>201</td><td>89539</td><td>212</td><td>30183</td><td>636</td><td>1251</td></tr><tr><th>10</th><td>0x9</td><td>62</td><td>239</td><td>87</td><td>12</td><td>40</td><td>2</td></tr><tr><th>11</th><td>0xa</td><td>153</td><td>166377</td><td>174</td><td>46617</td><td>158</td><td>6296</td></tr><tr><th>12</th><td>0xb</td><td>128</td><td>6463</td><td>140</td><td>412</td><td>312</td><td>115</td></tr><tr><th>13</th><td>0xc</td><td>142</td><td>92515</td><td>159</td><td>24228</td><td>87</td><td>121</td></tr><tr><th>14</th><td>0xd</td><td>117</td><td>5486</td><td>135</td><td>360</td><td>253</td><td>108</td></tr><tr><th>15</th><td>0xe</td><td>143</td><td>25503</td><td>156</td><td>3349</td><td>837</td><td>874</td></tr><tr><th>16</th><td>0xf</td><td>159</td><td>205538</td><td>172</td><td>27416</td><td>1066</td><td>211</td></tr><tr><th>17</th><td>0x10</td><td>196</td><td>89726</td><td>203</td><td>30226</td><td>4428</td><td>810</td></tr><tr><th>18</th><td>0x11</td><td>177</td><td>469797</td><td>191</td><td>117384</td><td>22972</td><td>503</td></tr><tr><th>19</th><td>0x12</td><td>106</td><td>2279</td><td>127</td><td>292</td><td>36</td><td>254</td></tr><tr><th>20</th><td>0x13</td><td>156</td><td>57222</td><td>168</td><td>6582</td><td>1271</td><td>1031</td></tr><tr><th>21</th><td>0x14</td><td>114</td><td>3321</td><td>130</td><td>534</td><td>82</td><td>23</td></tr><tr><th>22</th><td>0x15</td><td>165</td><td>97531</td><td>181</td><td>13800</td><td>2497</td><td>13</td></tr><tr><th>23</th><td>0x16</td><td>39</td><td>75</td><td>60</td><td>4</td><td>1</td><td>6</td></tr><tr><th>24</th><td>0x17</td><td>121</td><td>2826</td><td>137</td><td>142</td><td>41</td><td>16</td></tr><tr><th>25</th><td>0x18</td><td>28</td><td>52</td><td>47</td><td>5</td><td>0</td><td>0</td></tr><tr><th>26</th><td>0x19</td><td>89</td><td>1013</td><td>103</td><td>61</td><td>5</td><td>1</td></tr><tr><th>27</th><td>0x1a</td><td>71</td><td>572</td><td>85</td><td>23</td><td>1</td><td>4</td></tr><tr><th>28</th><td>0x1b</td><td>97</td><td>6590</td><td>109</td><td>376</td><td>62</td><td>48</td></tr><tr><th>29</th><td>0x1c</td><td>68</td><td>335</td><td>82</td><td>22</td><td>1</td><td>2</td></tr><tr><th>30</th><td>0x1d</td><td>103</td><td>5480</td><td>118</td><td>291</td><td>72</td><td>5</td></tr><tr><th>&vellip;</th><td>&vellip;</td><td>&vellip;</td><td>&vellip;</td><td>&vellip;</td><td>&vellip;</td><td>&vellip;</td><td>&vellip;</td></tr></tbody></table></div>"
      ],
      "text/latex": [
       "\\begin{tabular}{r|cccccccc}\n",
       "\t& goal & d\\_evolvability & s\\_evolvability & t\\_evolvability & 0x0 & 0x1 & 0x2 & \\\\\n",
       "\t\\hline\n",
       "\t& String7 & Int64 & Int64 & Int64 & Int64 & Int64 & Int64 & \\\\\n",
       "\t\\hline\n",
       "\t1 & 0x0 & 245 & 2386637 & 247 & 8448871 & 46321 & 44614 & $\\dots$ \\\\\n",
       "\t2 & 0x1 & 206 & 188369 & 211 & 46277 & 191384 & 4455 & $\\dots$ \\\\\n",
       "\t3 & 0x2 & 198 & 130874 & 211 & 44158 & 4464 & 124506 & $\\dots$ \\\\\n",
       "\t4 & 0x3 & 178 & 250704 & 186 & 48454 & 18144 & 10842 & $\\dots$ \\\\\n",
       "\t5 & 0x4 & 193 & 99828 & 198 & 34146 & 3922 & 916 & $\\dots$ \\\\\n",
       "\t6 & 0x5 & 180 & 314932 & 193 & 69480 & 19434 & 262 & $\\dots$ \\\\\n",
       "\t7 & 0x6 & 100 & 1641 & 121 & 205 & 21 & 189 & $\\dots$ \\\\\n",
       "\t8 & 0x7 & 139 & 33601 & 156 & 3400 & 797 & 562 & $\\dots$ \\\\\n",
       "\t9 & 0x8 & 201 & 89539 & 212 & 30183 & 636 & 1251 & $\\dots$ \\\\\n",
       "\t10 & 0x9 & 62 & 239 & 87 & 12 & 40 & 2 & $\\dots$ \\\\\n",
       "\t11 & 0xa & 153 & 166377 & 174 & 46617 & 158 & 6296 & $\\dots$ \\\\\n",
       "\t12 & 0xb & 128 & 6463 & 140 & 412 & 312 & 115 & $\\dots$ \\\\\n",
       "\t13 & 0xc & 142 & 92515 & 159 & 24228 & 87 & 121 & $\\dots$ \\\\\n",
       "\t14 & 0xd & 117 & 5486 & 135 & 360 & 253 & 108 & $\\dots$ \\\\\n",
       "\t15 & 0xe & 143 & 25503 & 156 & 3349 & 837 & 874 & $\\dots$ \\\\\n",
       "\t16 & 0xf & 159 & 205538 & 172 & 27416 & 1066 & 211 & $\\dots$ \\\\\n",
       "\t17 & 0x10 & 196 & 89726 & 203 & 30226 & 4428 & 810 & $\\dots$ \\\\\n",
       "\t18 & 0x11 & 177 & 469797 & 191 & 117384 & 22972 & 503 & $\\dots$ \\\\\n",
       "\t19 & 0x12 & 106 & 2279 & 127 & 292 & 36 & 254 & $\\dots$ \\\\\n",
       "\t20 & 0x13 & 156 & 57222 & 168 & 6582 & 1271 & 1031 & $\\dots$ \\\\\n",
       "\t21 & 0x14 & 114 & 3321 & 130 & 534 & 82 & 23 & $\\dots$ \\\\\n",
       "\t22 & 0x15 & 165 & 97531 & 181 & 13800 & 2497 & 13 & $\\dots$ \\\\\n",
       "\t23 & 0x16 & 39 & 75 & 60 & 4 & 1 & 6 & $\\dots$ \\\\\n",
       "\t24 & 0x17 & 121 & 2826 & 137 & 142 & 41 & 16 & $\\dots$ \\\\\n",
       "\t25 & 0x18 & 28 & 52 & 47 & 5 & 0 & 0 & $\\dots$ \\\\\n",
       "\t26 & 0x19 & 89 & 1013 & 103 & 61 & 5 & 1 & $\\dots$ \\\\\n",
       "\t27 & 0x1a & 71 & 572 & 85 & 23 & 1 & 4 & $\\dots$ \\\\\n",
       "\t28 & 0x1b & 97 & 6590 & 109 & 376 & 62 & 48 & $\\dots$ \\\\\n",
       "\t29 & 0x1c & 68 & 335 & 82 & 22 & 1 & 2 & $\\dots$ \\\\\n",
       "\t30 & 0x1d & 103 & 5480 & 118 & 291 & 72 & 5 & $\\dots$ \\\\\n",
       "\t$\\dots$ & $\\dots$ & $\\dots$ & $\\dots$ & $\\dots$ & $\\dots$ & $\\dots$ & $\\dots$ &  \\\\\n",
       "\\end{tabular}\n"
      ],
      "text/plain": [
       "\u001b[1m256×260 DataFrame\u001b[0m\n",
       "\u001b[1m Row \u001b[0m│\u001b[1m goal    \u001b[0m\u001b[1m d_evolvability \u001b[0m\u001b[1m s_evolvability \u001b[0m\u001b[1m t_evolvability \u001b[0m\u001b[1m 0x0     \u001b[0m\u001b[1m 0x1  \u001b[0m ⋯\n",
       "\u001b[1m     \u001b[0m│\u001b[90m String7 \u001b[0m\u001b[90m Int64          \u001b[0m\u001b[90m Int64          \u001b[0m\u001b[90m Int64          \u001b[0m\u001b[90m Int64   \u001b[0m\u001b[90m Int64\u001b[0m ⋯\n",
       "─────┼──────────────────────────────────────────────────────────────────────────\n",
       "   1 │ 0x0                 245         2386637             247  8448871   4632 ⋯\n",
       "   2 │ 0x1                 206          188369             211    46277  19138\n",
       "   3 │ 0x2                 198          130874             211    44158    446\n",
       "   4 │ 0x3                 178          250704             186    48454   1814\n",
       "   5 │ 0x4                 193           99828             198    34146    392 ⋯\n",
       "   6 │ 0x5                 180          314932             193    69480   1943\n",
       "   7 │ 0x6                 100            1641             121      205      2\n",
       "   8 │ 0x7                 139           33601             156     3400     79\n",
       "   9 │ 0x8                 201           89539             212    30183     63 ⋯\n",
       "  10 │ 0x9                  62             239              87       12      4\n",
       "  11 │ 0xa                 153          166377             174    46617     15\n",
       "  ⋮  │    ⋮           ⋮               ⋮               ⋮            ⋮       ⋮   ⋱\n",
       " 247 │ 0xf6                 55             249              78        6\n",
       " 248 │ 0xf7                189           89609             203     2592      4 ⋯\n",
       " 249 │ 0xf8                136           33749             154     1999     16\n",
       " 250 │ 0xf9                101            1736             119       58      7\n",
       " 251 │ 0xfa                178          315402             194    27914     72\n",
       " 252 │ 0xfb                191           99652             206     3353    131 ⋯\n",
       " 253 │ 0xfc                176          249984             188    23804    102\n",
       " 254 │ 0xfd                203          130608             211     4752    198\n",
       " 255 │ 0xfe                210          188229             217     7460   1247\n",
       " 256 │ 0xff                245         2384004             246   414248    729 ⋯\n",
       "\u001b[36m                                                255 columns and 235 rows omitted\u001b[0m"
      ]
     },
     "execution_count": 9,
     "metadata": {},
     "output_type": "execute_result"
    }
   ],
   "source": [
    "ddf = read_dataframe(\"../data/3_14_23/phnet_matrix3_14_23D.csv\")   # A dataframe for sampling approx matrix"
   ]
  },
  {
   "cell_type": "code",
   "execution_count": 11,
   "id": "6c432a87",
   "metadata": {
    "scrolled": false
   },
   "outputs": [
    {
     "data": {
      "text/plain": [
       "256×256 Matrix{Int64}:\n",
       " 8448871   46321   44614   48461  34312  …   23945    4705    7345   415301\n",
       "   46277  191384    4455   18294   3764        988    2030   12480     7442\n",
       "   44158    4464  124506   10939    876       1117    7999    1904     4747\n",
       "   48454   18144   10842  314826    182      28185    1101     938    23595\n",
       "   34146    3922     916     175  84612        544     176    1252     3315\n",
       "   69480   19434     262    8524   8410  …      46     668     679    27708\n",
       "     205      21     189      19    176          9      18      57       48\n",
       "    3400     797     562    3085    357         97     471     144     2120\n",
       "   30183     636    1251     218    841         90     143      47     2531\n",
       "      12      40       2       2      3          0       4       2        6\n",
       "   46617     158    6296     499    170  …       5      79     105     9694\n",
       "     412     312     115     703     89         19      18      85      242\n",
       "   24228      87     121    2647   3941       1997      97      74     5435\n",
       "       ⋮                                 ⋱                                ⋮\n",
       "     228      91      20      27     86        684      80     268      369\n",
       "    9755     115      76       7    139  …     459    6536     155    46325\n",
       "       6       3       8       2      3          5       1      28       18\n",
       "    2592      43     132      93    173        224    1349     588    30301\n",
       "    1999     160     491      89    419       2961     602     788     3364\n",
       "      58      73      11       8     28         12     195      32      210\n",
       "   27914     728     647      59    764  …    8793     264   19569    69199\n",
       "    3353    1315     188     561   5874        174     860    3822    33969\n",
       "   23804    1021    1042   28218    554     314429   10727   18257    48233\n",
       "    4752    1989    7997    1056    189      10622  124112    4460    44006\n",
       "    7460   12477    1917     962   1285      18241    4419  190986    46178\n",
       "  414248    7299    4774   23574   3390  …   48194   43717   46518  8442555"
      ]
     },
     "execution_count": 11,
     "metadata": {},
     "output_type": "execute_result"
    }
   ],
   "source": [
    "E=df_to_matrix_mt( ddf, 5 )"
   ]
  },
  {
   "cell_type": "code",
   "execution_count": 12,
   "id": "eb91f437",
   "metadata": {},
   "outputs": [
    {
     "data": {
      "text/plain": [
       "1×256 adjoint(::Vector{Float64}) with eltype Float64:\n",
       " 0.00390625  0.00390625  0.00390625  …  0.00390625  0.00390625  0.00390625"
      ]
     },
     "execution_count": 12,
     "metadata": {},
     "output_type": "execute_result"
    }
   ],
   "source": [
    "P=fill(1.0,2^2^p.numinputs); P=P/sum(P); P'  # Initial uniform population"
   ]
  },
  {
   "cell_type": "code",
   "execution_count": 17,
   "id": "a43b6022",
   "metadata": {},
   "outputs": [],
   "source": [
    "labels = map(x->[x],MyInt(0):MyInt(2^2^p.numinputs-1));"
   ]
  },
  {
   "cell_type": "code",
   "execution_count": 43,
   "id": "4e2d4fad",
   "metadata": {},
   "outputs": [
    {
     "data": {
      "text/plain": [
       "10-element Vector{Float64}:\n",
       " 42326.203125\n",
       "  1483.41015625\n",
       "   997.578125\n",
       "  2209.1015625\n",
       "   720.46875\n",
       "  2842.734375\n",
       "     8.83203125\n",
       "   228.484375\n",
       "   649.23828125\n",
       "     1.17578125"
      ]
     },
     "execution_count": 43,
     "metadata": {},
     "output_type": "execute_result"
    }
   ],
   "source": [
    "(E*P)[1:10] # 1 generations of mutation with no selection\n",
    "# Note that 0x05 and 0x0a have highest frequency even though these are not the phenotypes with highest redundany"
   ]
  },
  {
   "cell_type": "code",
   "execution_count": 44,
   "id": "d4c0af3a",
   "metadata": {},
   "outputs": [
    {
     "data": {
      "text/plain": [
       "11-element Vector{Float64}:\n",
       "   0.27734375\n",
       "   0.00390625\n",
       "  28.21875\n",
       "   0.23828125\n",
       "  10.30078125\n",
       "   0.05859375\n",
       "  19.3203125\n",
       "   1.19921875\n",
       " 173.03125\n",
       "   3.69140625\n",
       " 127.4921875"
      ]
     },
     "execution_count": 44,
     "metadata": {},
     "output_type": "execute_result"
    }
   ],
   "source": [
    "(E*P)[0x0069:0x0073] "
   ]
  },
  {
   "cell_type": "code",
   "execution_count": 45,
   "id": "6144f90a",
   "metadata": {},
   "outputs": [
    {
     "data": {
      "text/plain": [
       "10-element Vector{Float64}:\n",
       " 1.42e-6\n",
       " 2.0e-8\n",
       " 0.00014448\n",
       " 1.22e-6\n",
       " 5.274e-5\n",
       " 3.0e-7\n",
       " 9.892e-5\n",
       " 6.14e-6\n",
       " 0.00088592\n",
       " 1.89e-5"
      ]
     },
     "execution_count": 45,
     "metadata": {},
     "output_type": "execute_result"
    }
   ],
   "source": [
    " normalize(E*P)[0x0069:0x0072]  # 4 generations of mutation with no selection, normalized"
   ]
  },
  {
   "cell_type": "code",
   "execution_count": 65,
   "id": "37d041af",
   "metadata": {},
   "outputs": [
    {
     "data": {
      "text/plain": [
       "4-element Vector{Float64}:\n",
       " 0.02\n",
       " 1.0\n",
       " 0.02\n",
       " 0.02"
      ]
     },
     "execution_count": 65,
     "metadata": {},
     "output_type": "execute_result"
    }
   ],
   "source": [
    "fit = single_element_fitness(p,0x0069,0.02);F = Diagonal(fit);  fit[0x0069:0x0069+3] # Fitness with 1000-fold advantage for 0x6"
   ]
  },
  {
   "cell_type": "code",
   "execution_count": 48,
   "id": "1e0aa2ae",
   "metadata": {},
   "outputs": [],
   "source": [
    "F = Diagonal(fit);"
   ]
  },
  {
   "cell_type": "code",
   "execution_count": 66,
   "id": "ae823f5e",
   "metadata": {},
   "outputs": [
    {
     "data": {
      "text/plain": [
       "8-element Vector{Float64}:\n",
       " 1.4199986084013638e-6\n",
       " 9.999990200009603e-7\n",
       " 0.00014447985840973875\n",
       " 1.2199988044011716e-6\n",
       " 5.2739948314850655e-5\n",
       " 2.9999970600028813e-7\n",
       " 9.8919903058495e-5\n",
       " 6.139993982805898e-6"
      ]
     },
     "execution_count": 66,
     "metadata": {},
     "output_type": "execute_result"
    }
   ],
   "source": [
    "normalize(F*E*P)[0x0069:0x0070]"
   ]
  },
  {
   "cell_type": "code",
   "execution_count": 122,
   "id": "1ee1994a",
   "metadata": {
    "scrolled": false
   },
   "outputs": [
    {
     "data": {
      "text/plain": [
       "256×256 Matrix{Float64}:\n",
       " 9.44887   0.046321  0.044614  0.048461  …  0.004705  0.007345  0.415301\n",
       " 0.046277  1.19138   0.004455  0.018294     0.00203   0.01248   0.007442\n",
       " 0.044158  0.004464  1.12451   0.010939     0.007999  0.001904  0.004747\n",
       " 0.048454  0.018144  0.010842  1.31483      0.001101  0.000938  0.023595\n",
       " 0.034146  0.003922  0.000916  0.000175     0.000176  0.001252  0.003315\n",
       " 0.06948   0.019434  0.000262  0.008524  …  0.000668  0.000679  0.027708\n",
       " 0.000205  2.1e-5    0.000189  1.9e-5       1.8e-5    5.7e-5    4.8e-5\n",
       " 0.0034    0.000797  0.000562  0.003085     0.000471  0.000144  0.00212\n",
       " 0.030183  0.000636  0.001251  0.000218     0.000143  4.7e-5    0.002531\n",
       " 1.2e-5    4.0e-5    2.0e-6    2.0e-6       4.0e-6    2.0e-6    6.0e-6\n",
       " 0.046617  0.000158  0.006296  0.000499  …  7.9e-5    0.000105  0.009694\n",
       " 0.000412  0.000312  0.000115  0.000703     1.8e-5    8.5e-5    0.000242\n",
       " 0.024228  8.7e-5    0.000121  0.002647     9.7e-5    7.4e-5    0.005435\n",
       " ⋮                                       ⋱                      ⋮\n",
       " 0.000228  9.1e-5    2.0e-5    2.7e-5       8.0e-5    0.000268  0.000369\n",
       " 0.009755  0.000115  7.6e-5    7.0e-6    …  0.006536  0.000155  0.046325\n",
       " 6.0e-6    3.0e-6    8.0e-6    2.0e-6       1.0e-6    2.8e-5    1.8e-5\n",
       " 0.002592  4.3e-5    0.000132  9.3e-5       0.001349  0.000588  0.030301\n",
       " 0.001999  0.00016   0.000491  8.9e-5       0.000602  0.000788  0.003364\n",
       " 5.8e-5    7.3e-5    1.1e-5    8.0e-6       0.000195  3.2e-5    0.00021\n",
       " 0.027914  0.000728  0.000647  5.9e-5    …  0.000264  0.019569  0.069199\n",
       " 0.003353  0.001315  0.000188  0.000561     0.00086   0.003822  0.033969\n",
       " 0.023804  0.001021  0.001042  0.028218     0.010727  0.018257  0.048233\n",
       " 0.004752  0.001989  0.007997  0.001056     1.12411   0.00446   0.044006\n",
       " 0.00746   0.012477  0.001917  0.000962     0.004419  1.19099   0.046178\n",
       " 0.414248  0.007299  0.004774  0.023574  …  0.043717  0.046518  9.44256"
      ]
     },
     "execution_count": 122,
     "metadata": {},
     "output_type": "execute_result"
    }
   ],
   "source": [
    "M = mutation(map(Float64,E), 50.)  # "
   ]
  },
  {
   "cell_type": "code",
   "execution_count": 93,
   "id": "58a3bdf7",
   "metadata": {
    "scrolled": false
   },
   "outputs": [
    {
     "data": {
      "text/plain": [
       "15-element Vector{Int64}:\n",
       "   1\n",
       "   2\n",
       "   3\n",
       "   4\n",
       "   5\n",
       "   6\n",
       "   7\n",
       "   8\n",
       " 106\n",
       " 107\n",
       " 108\n",
       " 109\n",
       " 110\n",
       " 111\n",
       " 112"
      ]
     },
     "execution_count": 93,
     "metadata": {},
     "output_type": "execute_result"
    }
   ],
   "source": [
    "vc = vcat(collect(1:8),collect(0x0069+1:0x0070))"
   ]
  },
  {
   "cell_type": "code",
   "execution_count": 107,
   "id": "851fcdf9",
   "metadata": {},
   "outputs": [
    {
     "data": {
      "text/plain": [
       "15-element Vector{Vector{Int64}}:\n",
       " [1]\n",
       " [2]\n",
       " [3]\n",
       " [4]\n",
       " [5]\n",
       " [6]\n",
       " [7]\n",
       " [8]\n",
       " [106]\n",
       " [107]\n",
       " [108]\n",
       " [109]\n",
       " [110]\n",
       " [111]\n",
       " [112]"
      ]
     },
     "execution_count": 107,
     "metadata": {},
     "output_type": "execute_result"
    }
   ],
   "source": [
    "vlabels = map(x->[x],vc)"
   ]
  },
  {
   "cell_type": "code",
   "execution_count": 123,
   "id": "bdba8ba1",
   "metadata": {
    "scrolled": true
   },
   "outputs": [
    {
     "data": {
      "text/html": [
       "<div class=\"data-frame\"><p>15 rows × 2 columns</p><table class=\"data-frame\"><thead><tr><th></th><th>phenos</th><th>values</th></tr><tr><th></th><th title=\"Vector{Int64}\">Array…</th><th title=\"Float64\">Float64</th></tr></thead><tbody><tr><th>1</th><td>[1]</td><td>0.0462325</td></tr><tr><th>2</th><td>[2]</td><td>0.00538966</td></tr><tr><th>3</th><td>[3]</td><td>0.00490383</td></tr><tr><th>4</th><td>[4]</td><td>0.00611535</td></tr><tr><th>5</th><td>[5]</td><td>0.00462672</td></tr><tr><th>6</th><td>[6]</td><td>0.00674898</td></tr><tr><th>7</th><td>[7]</td><td>0.00391508</td></tr><tr><th>8</th><td>[8]</td><td>0.00413473</td></tr><tr><th>9</th><td>[106]</td><td>0.00390625</td></tr><tr><th>10</th><td>[107]</td><td>0.00393447</td></tr><tr><th>11</th><td>[108]</td><td>0.00390649</td></tr><tr><th>12</th><td>[109]</td><td>0.00391655</td></tr><tr><th>13</th><td>[110]</td><td>0.00390631</td></tr><tr><th>14</th><td>[111]</td><td>0.00392557</td></tr><tr><th>15</th><td>[112]</td><td>0.00390745</td></tr></tbody></table></div>"
      ],
      "text/latex": [
       "\\begin{tabular}{r|cc}\n",
       "\t& phenos & values\\\\\n",
       "\t\\hline\n",
       "\t& Array… & Float64\\\\\n",
       "\t\\hline\n",
       "\t1 & [1] & 0.0462325 \\\\\n",
       "\t2 & [2] & 0.00538966 \\\\\n",
       "\t3 & [3] & 0.00490383 \\\\\n",
       "\t4 & [4] & 0.00611535 \\\\\n",
       "\t5 & [5] & 0.00462672 \\\\\n",
       "\t6 & [6] & 0.00674898 \\\\\n",
       "\t7 & [7] & 0.00391508 \\\\\n",
       "\t8 & [8] & 0.00413473 \\\\\n",
       "\t9 & [106] & 0.00390625 \\\\\n",
       "\t10 & [107] & 0.00393447 \\\\\n",
       "\t11 & [108] & 0.00390649 \\\\\n",
       "\t12 & [109] & 0.00391655 \\\\\n",
       "\t13 & [110] & 0.00390631 \\\\\n",
       "\t14 & [111] & 0.00392557 \\\\\n",
       "\t15 & [112] & 0.00390745 \\\\\n",
       "\\end{tabular}\n"
      ],
      "text/plain": [
       "\u001b[1m15×2 DataFrame\u001b[0m\n",
       "\u001b[1m Row \u001b[0m│\u001b[1m phenos \u001b[0m\u001b[1m values     \u001b[0m\n",
       "\u001b[1m     \u001b[0m│\u001b[90m Array… \u001b[0m\u001b[90m Float64    \u001b[0m\n",
       "─────┼────────────────────\n",
       "   1 │ [1]     0.0462325\n",
       "   2 │ [2]     0.00538966\n",
       "   3 │ [3]     0.00490383\n",
       "   4 │ [4]     0.00611535\n",
       "   5 │ [5]     0.00462672\n",
       "   6 │ [6]     0.00674898\n",
       "   7 │ [7]     0.00391508\n",
       "   8 │ [8]     0.00413473\n",
       "   9 │ [106]   0.00390625\n",
       "  10 │ [107]   0.00393447\n",
       "  11 │ [108]   0.00390649\n",
       "  12 │ [109]   0.00391655\n",
       "  13 │ [110]   0.00390631\n",
       "  14 │ [111]   0.00392557\n",
       "  15 │ [112]   0.00390745"
      ]
     },
     "execution_count": 123,
     "metadata": {},
     "output_type": "execute_result"
    }
   ],
   "source": [
    "display_pheno_vect((M*P)[vc],vlabels)"
   ]
  },
  {
   "cell_type": "code",
   "execution_count": 119,
   "id": "35cf985e",
   "metadata": {},
   "outputs": [
    {
     "data": {
      "text/plain": [
       "4-element Vector{Float64}:\n",
       " 0.03\n",
       " 1.0\n",
       " 0.03\n",
       " 0.03"
      ]
     },
     "execution_count": 119,
     "metadata": {},
     "output_type": "execute_result"
    }
   ],
   "source": [
    "fit = single_element_fitness(p,0x0069,0.03);F = Diagonal(fit);  fit[0x0069:0x0069+3]"
   ]
  },
  {
   "cell_type": "code",
   "execution_count": 124,
   "id": "7d6a3769",
   "metadata": {
    "scrolled": false
   },
   "outputs": [
    {
     "data": {
      "text/html": [
       "<div class=\"data-frame\"><p>15 rows × 2 columns</p><table class=\"data-frame\"><thead><tr><th></th><th>phenos</th><th>values</th></tr><tr><th></th><th title=\"Vector{Int64}\">Array…</th><th title=\"Float64\">Float64</th></tr></thead><tbody><tr><th>1</th><td>[1]</td><td>0.0349818</td></tr><tr><th>2</th><td>[2]</td><td>0.00407809</td></tr><tr><th>3</th><td>[3]</td><td>0.00371048</td></tr><tr><th>4</th><td>[4]</td><td>0.00462718</td></tr><tr><th>5</th><td>[5]</td><td>0.00350081</td></tr><tr><th>6</th><td>[6]</td><td>0.00510662</td></tr><tr><th>7</th><td>[7]</td><td>0.00296235</td></tr><tr><th>8</th><td>[8]</td><td>0.00312855</td></tr><tr><th>9</th><td>[106]</td><td>0.0985223</td></tr><tr><th>10</th><td>[107]</td><td>0.00297702</td></tr><tr><th>11</th><td>[108]</td><td>0.00295585</td></tr><tr><th>12</th><td>[109]</td><td>0.00296346</td></tr><tr><th>13</th><td>[110]</td><td>0.00295571</td></tr><tr><th>14</th><td>[111]</td><td>0.00297028</td></tr><tr><th>15</th><td>[112]</td><td>0.00295657</td></tr></tbody></table></div>"
      ],
      "text/latex": [
       "\\begin{tabular}{r|cc}\n",
       "\t& phenos & values\\\\\n",
       "\t\\hline\n",
       "\t& Array… & Float64\\\\\n",
       "\t\\hline\n",
       "\t1 & [1] & 0.0349818 \\\\\n",
       "\t2 & [2] & 0.00407809 \\\\\n",
       "\t3 & [3] & 0.00371048 \\\\\n",
       "\t4 & [4] & 0.00462718 \\\\\n",
       "\t5 & [5] & 0.00350081 \\\\\n",
       "\t6 & [6] & 0.00510662 \\\\\n",
       "\t7 & [7] & 0.00296235 \\\\\n",
       "\t8 & [8] & 0.00312855 \\\\\n",
       "\t9 & [106] & 0.0985223 \\\\\n",
       "\t10 & [107] & 0.00297702 \\\\\n",
       "\t11 & [108] & 0.00295585 \\\\\n",
       "\t12 & [109] & 0.00296346 \\\\\n",
       "\t13 & [110] & 0.00295571 \\\\\n",
       "\t14 & [111] & 0.00297028 \\\\\n",
       "\t15 & [112] & 0.00295657 \\\\\n",
       "\\end{tabular}\n"
      ],
      "text/plain": [
       "\u001b[1m15×2 DataFrame\u001b[0m\n",
       "\u001b[1m Row \u001b[0m│\u001b[1m phenos \u001b[0m\u001b[1m values     \u001b[0m\n",
       "\u001b[1m     \u001b[0m│\u001b[90m Array… \u001b[0m\u001b[90m Float64    \u001b[0m\n",
       "─────┼────────────────────\n",
       "   1 │ [1]     0.0349818\n",
       "   2 │ [2]     0.00407809\n",
       "   3 │ [3]     0.00371048\n",
       "   4 │ [4]     0.00462718\n",
       "   5 │ [5]     0.00350081\n",
       "   6 │ [6]     0.00510662\n",
       "   7 │ [7]     0.00296235\n",
       "   8 │ [8]     0.00312855\n",
       "   9 │ [106]   0.0985223\n",
       "  10 │ [107]   0.00297702\n",
       "  11 │ [108]   0.00295585\n",
       "  12 │ [109]   0.00296346\n",
       "  13 │ [110]   0.00295571\n",
       "  14 │ [111]   0.00297028\n",
       "  15 │ [112]   0.00295657"
      ]
     },
     "execution_count": 124,
     "metadata": {},
     "output_type": "execute_result"
    }
   ],
   "source": [
    "display_pheno_vect(normalize((F*M)*P)[vc],vlabels)"
   ]
  },
  {
   "cell_type": "code",
   "execution_count": 121,
   "id": "4aedd9de",
   "metadata": {
    "scrolled": false
   },
   "outputs": [
    {
     "data": {
      "text/html": [
       "<div class=\"data-frame\"><p>15 rows × 2 columns</p><table class=\"data-frame\"><thead><tr><th></th><th>phenos</th><th>values</th></tr><tr><th></th><th title=\"Vector{Int64}\">Array…</th><th title=\"Float64\">Float64</th></tr></thead><tbody><tr><th>1</th><td>[1]</td><td>0.141099</td></tr><tr><th>2</th><td>[2]</td><td>0.000975565</td></tr><tr><th>3</th><td>[3]</td><td>0.000848133</td></tr><tr><th>4</th><td>[4]</td><td>0.00133143</td></tr><tr><th>5</th><td>[5]</td><td>0.000646239</td></tr><tr><th>6</th><td>[6]</td><td>0.00184951</td></tr><tr><th>7</th><td>[7]</td><td>2.16038e-5</td></tr><tr><th>8</th><td>[8]</td><td>0.00011617</td></tr><tr><th>9</th><td>[106]</td><td>0.639144</td></tr><tr><th>10</th><td>[107]</td><td>2.87373e-5</td></tr><tr><th>11</th><td>[108]</td><td>1.73748e-5</td></tr><tr><th>12</th><td>[109]</td><td>2.19836e-5</td></tr><tr><th>13</th><td>[110]</td><td>1.72587e-5</td></tr><tr><th>14</th><td>[111]</td><td>2.35236e-5</td></tr><tr><th>15</th><td>[112]</td><td>1.75302e-5</td></tr></tbody></table></div>"
      ],
      "text/latex": [
       "\\begin{tabular}{r|cc}\n",
       "\t& phenos & values\\\\\n",
       "\t\\hline\n",
       "\t& Array… & Float64\\\\\n",
       "\t\\hline\n",
       "\t1 & [1] & 0.141099 \\\\\n",
       "\t2 & [2] & 0.000975565 \\\\\n",
       "\t3 & [3] & 0.000848133 \\\\\n",
       "\t4 & [4] & 0.00133143 \\\\\n",
       "\t5 & [5] & 0.000646239 \\\\\n",
       "\t6 & [6] & 0.00184951 \\\\\n",
       "\t7 & [7] & 2.16038e-5 \\\\\n",
       "\t8 & [8] & 0.00011617 \\\\\n",
       "\t9 & [106] & 0.639144 \\\\\n",
       "\t10 & [107] & 2.87373e-5 \\\\\n",
       "\t11 & [108] & 1.73748e-5 \\\\\n",
       "\t12 & [109] & 2.19836e-5 \\\\\n",
       "\t13 & [110] & 1.72587e-5 \\\\\n",
       "\t14 & [111] & 2.35236e-5 \\\\\n",
       "\t15 & [112] & 1.75302e-5 \\\\\n",
       "\\end{tabular}\n"
      ],
      "text/plain": [
       "\u001b[1m15×2 DataFrame\u001b[0m\n",
       "\u001b[1m Row \u001b[0m│\u001b[1m phenos \u001b[0m\u001b[1m values      \u001b[0m\n",
       "\u001b[1m     \u001b[0m│\u001b[90m Array… \u001b[0m\u001b[90m Float64     \u001b[0m\n",
       "─────┼─────────────────────\n",
       "   1 │ [1]     0.141099\n",
       "   2 │ [2]     0.000975565\n",
       "   3 │ [3]     0.000848133\n",
       "   4 │ [4]     0.00133143\n",
       "   5 │ [5]     0.000646239\n",
       "   6 │ [6]     0.00184951\n",
       "   7 │ [7]     2.16038e-5\n",
       "   8 │ [8]     0.00011617\n",
       "   9 │ [106]   0.639144\n",
       "  10 │ [107]   2.87373e-5\n",
       "  11 │ [108]   1.73748e-5\n",
       "  12 │ [109]   2.19836e-5\n",
       "  13 │ [110]   1.72587e-5\n",
       "  14 │ [111]   2.35236e-5\n",
       "  15 │ [112]   1.75302e-5"
      ]
     },
     "execution_count": 121,
     "metadata": {},
     "output_type": "execute_result"
    }
   ],
   "source": [
    "display_pheno_vect(normalize((F*M)^3*P)[vc],vlabels)"
   ]
  },
  {
   "cell_type": "code",
   "execution_count": 104,
   "id": "220adc60",
   "metadata": {},
   "outputs": [
    {
     "data": {
      "text/html": [
       "<div class=\"data-frame\"><p>16 rows × 2 columns</p><table class=\"data-frame\"><thead><tr><th></th><th>phenos</th><th>values</th></tr><tr><th></th><th title=\"Vector{UInt8}\">Array…</th><th title=\"Float64\">Float64</th></tr></thead><tbody><tr><th>1</th><td>[0x00]</td><td>0.174283</td></tr><tr><th>2</th><td>[0x01]</td><td>0.090166</td></tr><tr><th>3</th><td>[0x02]</td><td>0.0442081</td></tr><tr><th>4</th><td>[0x03]</td><td>0.0185375</td></tr><tr><th>5</th><td>[0x04]</td><td>0.0442081</td></tr><tr><th>6</th><td>[0x05]</td><td>0.520246</td></tr><tr><th>7</th><td>[0x06]</td><td>0.597832</td></tr><tr><th>8</th><td>[0x07]</td><td>0.0908115</td></tr><tr><th>9</th><td>[0x08]</td><td>0.090166</td></tr><tr><th>10</th><td>[0x09]</td><td>0.00190574</td></tr><tr><th>11</th><td>[0x0a]</td><td>0.520246</td></tr><tr><th>12</th><td>[0x0b]</td><td>0.0427566</td></tr><tr><th>13</th><td>[0x0c]</td><td>0.0185375</td></tr><tr><th>14</th><td>[0x0d]</td><td>0.0427566</td></tr><tr><th>15</th><td>[0x0e]</td><td>0.0908115</td></tr><tr><th>16</th><td>[0x0f]</td><td>0.172915</td></tr></tbody></table></div>"
      ],
      "text/latex": [
       "\\begin{tabular}{r|cc}\n",
       "\t& phenos & values\\\\\n",
       "\t\\hline\n",
       "\t& Array… & Float64\\\\\n",
       "\t\\hline\n",
       "\t1 & [0x00] & 0.174283 \\\\\n",
       "\t2 & [0x01] & 0.090166 \\\\\n",
       "\t3 & [0x02] & 0.0442081 \\\\\n",
       "\t4 & [0x03] & 0.0185375 \\\\\n",
       "\t5 & [0x04] & 0.0442081 \\\\\n",
       "\t6 & [0x05] & 0.520246 \\\\\n",
       "\t7 & [0x06] & 0.597832 \\\\\n",
       "\t8 & [0x07] & 0.0908115 \\\\\n",
       "\t9 & [0x08] & 0.090166 \\\\\n",
       "\t10 & [0x09] & 0.00190574 \\\\\n",
       "\t11 & [0x0a] & 0.520246 \\\\\n",
       "\t12 & [0x0b] & 0.0427566 \\\\\n",
       "\t13 & [0x0c] & 0.0185375 \\\\\n",
       "\t14 & [0x0d] & 0.0427566 \\\\\n",
       "\t15 & [0x0e] & 0.0908115 \\\\\n",
       "\t16 & [0x0f] & 0.172915 \\\\\n",
       "\\end{tabular}\n"
      ],
      "text/plain": [
       "\u001b[1m16×2 DataFrame\u001b[0m\n",
       "\u001b[1m Row \u001b[0m│\u001b[1m phenos      \u001b[0m\u001b[1m values     \u001b[0m\n",
       "\u001b[1m     \u001b[0m│\u001b[90m Array…      \u001b[0m\u001b[90m Float64    \u001b[0m\n",
       "─────┼─────────────────────────\n",
       "   1 │ UInt8[0x00]  0.174283\n",
       "   2 │ UInt8[0x01]  0.090166\n",
       "   3 │ UInt8[0x02]  0.0442081\n",
       "   4 │ UInt8[0x03]  0.0185375\n",
       "   5 │ UInt8[0x04]  0.0442081\n",
       "   6 │ UInt8[0x05]  0.520246\n",
       "   7 │ UInt8[0x06]  0.597832\n",
       "   8 │ UInt8[0x07]  0.0908115\n",
       "   9 │ UInt8[0x08]  0.090166\n",
       "  10 │ UInt8[0x09]  0.00190574\n",
       "  11 │ UInt8[0x0a]  0.520246\n",
       "  12 │ UInt8[0x0b]  0.0427566\n",
       "  13 │ UInt8[0x0c]  0.0185375\n",
       "  14 │ UInt8[0x0d]  0.0427566\n",
       "  15 │ UInt8[0x0e]  0.0908115\n",
       "  16 │ UInt8[0x0f]  0.172915"
      ]
     },
     "execution_count": 104,
     "metadata": {},
     "output_type": "execute_result"
    }
   ],
   "source": [
    "EV= eigen(F*M); display_pheno_vect( -EV.vectors[:,end], labels )  # The 0x6 component is slightly larger than the 0x5 component\n",
    "# This shows that the bias of the G-P map has been overcome"
   ]
  },
  {
   "cell_type": "code",
   "execution_count": 159,
   "id": "0fd60035",
   "metadata": {},
   "outputs": [
    {
     "data": {
      "text/html": [
       "<div class=\"data-frame\"><p>16 rows × 2 columns</p><table class=\"data-frame\"><thead><tr><th></th><th>phenos</th><th>values</th></tr><tr><th></th><th title=\"Vector{UInt8}\">Array…</th><th title=\"Float64\">Float64</th></tr></thead><tbody><tr><th>1</th><td>[0x00]</td><td>0.069739</td></tr><tr><th>2</th><td>[0x01]</td><td>0.0596338</td></tr><tr><th>3</th><td>[0x02]</td><td>0.0520971</td></tr><tr><th>4</th><td>[0x03]</td><td>0.0517484</td></tr><tr><th>5</th><td>[0x04]</td><td>0.0520971</td></tr><tr><th>6</th><td>[0x05]</td><td>0.0847301</td></tr><tr><th>7</th><td>[0x06]</td><td>0.0973664</td></tr><tr><th>8</th><td>[0x07]</td><td>0.0596449</td></tr><tr><th>9</th><td>[0x08]</td><td>0.0596338</td></tr><tr><th>10</th><td>[0x09]</td><td>0.0433131</td></tr><tr><th>11</th><td>[0x0a]</td><td>0.0847301</td></tr><tr><th>12</th><td>[0x0b]</td><td>0.0520747</td></tr><tr><th>13</th><td>[0x0c]</td><td>0.0517484</td></tr><tr><th>14</th><td>[0x0d]</td><td>0.0520747</td></tr><tr><th>15</th><td>[0x0e]</td><td>0.0596449</td></tr><tr><th>16</th><td>[0x0f]</td><td>0.0697236</td></tr></tbody></table></div>"
      ],
      "text/latex": [
       "\\begin{tabular}{r|cc}\n",
       "\t& phenos & values\\\\\n",
       "\t\\hline\n",
       "\t& Array… & Float64\\\\\n",
       "\t\\hline\n",
       "\t1 & [0x00] & 0.069739 \\\\\n",
       "\t2 & [0x01] & 0.0596338 \\\\\n",
       "\t3 & [0x02] & 0.0520971 \\\\\n",
       "\t4 & [0x03] & 0.0517484 \\\\\n",
       "\t5 & [0x04] & 0.0520971 \\\\\n",
       "\t6 & [0x05] & 0.0847301 \\\\\n",
       "\t7 & [0x06] & 0.0973664 \\\\\n",
       "\t8 & [0x07] & 0.0596449 \\\\\n",
       "\t9 & [0x08] & 0.0596338 \\\\\n",
       "\t10 & [0x09] & 0.0433131 \\\\\n",
       "\t11 & [0x0a] & 0.0847301 \\\\\n",
       "\t12 & [0x0b] & 0.0520747 \\\\\n",
       "\t13 & [0x0c] & 0.0517484 \\\\\n",
       "\t14 & [0x0d] & 0.0520747 \\\\\n",
       "\t15 & [0x0e] & 0.0596449 \\\\\n",
       "\t16 & [0x0f] & 0.0697236 \\\\\n",
       "\\end{tabular}\n"
      ],
      "text/plain": [
       "\u001b[1m16×2 DataFrame\u001b[0m\n",
       "\u001b[1m Row \u001b[0m│\u001b[1m phenos      \u001b[0m\u001b[1m values    \u001b[0m\n",
       "\u001b[1m     \u001b[0m│\u001b[90m Array…      \u001b[0m\u001b[90m Float64   \u001b[0m\n",
       "─────┼────────────────────────\n",
       "   1 │ UInt8[0x00]  0.069739\n",
       "   2 │ UInt8[0x01]  0.0596338\n",
       "   3 │ UInt8[0x02]  0.0520971\n",
       "   4 │ UInt8[0x03]  0.0517484\n",
       "   5 │ UInt8[0x04]  0.0520971\n",
       "   6 │ UInt8[0x05]  0.0847301\n",
       "   7 │ UInt8[0x06]  0.0973664\n",
       "   8 │ UInt8[0x07]  0.0596449\n",
       "   9 │ UInt8[0x08]  0.0596338\n",
       "  10 │ UInt8[0x09]  0.0433131\n",
       "  11 │ UInt8[0x0a]  0.0847301\n",
       "  12 │ UInt8[0x0b]  0.0520747\n",
       "  13 │ UInt8[0x0c]  0.0517484\n",
       "  14 │ UInt8[0x0d]  0.0520747\n",
       "  15 │ UInt8[0x0e]  0.0596449\n",
       "  16 │ UInt8[0x0f]  0.0697236"
      ]
     },
     "execution_count": 159,
     "metadata": {},
     "output_type": "execute_result"
    }
   ],
   "source": [
    "display_pheno_vect( normalize((F*M)^5*fill(1/16,16)), labels )  # background fitness of 0.85 gives a modest superiority of 0x6"
   ]
  },
  {
   "cell_type": "code",
   "execution_count": 158,
   "id": "a0ebd40d",
   "metadata": {},
   "outputs": [
    {
     "data": {
      "text/html": [
       "<div class=\"data-frame\"><p>16 rows × 2 columns</p><table class=\"data-frame\"><thead><tr><th></th><th>phenos</th><th>values</th></tr><tr><th></th><th title=\"Vector{UInt8}\">Array…</th><th title=\"Float64\">Float64</th></tr></thead><tbody><tr><th>1</th><td>[0x00]</td><td>0.069739</td></tr><tr><th>2</th><td>[0x01]</td><td>0.0596338</td></tr><tr><th>3</th><td>[0x02]</td><td>0.0520971</td></tr><tr><th>4</th><td>[0x03]</td><td>0.0517484</td></tr><tr><th>5</th><td>[0x04]</td><td>0.0520971</td></tr><tr><th>6</th><td>[0x05]</td><td>0.0847301</td></tr><tr><th>7</th><td>[0x06]</td><td>0.0973664</td></tr><tr><th>8</th><td>[0x07]</td><td>0.0596449</td></tr><tr><th>9</th><td>[0x08]</td><td>0.0596338</td></tr><tr><th>10</th><td>[0x09]</td><td>0.0433131</td></tr><tr><th>11</th><td>[0x0a]</td><td>0.0847301</td></tr><tr><th>12</th><td>[0x0b]</td><td>0.0520747</td></tr><tr><th>13</th><td>[0x0c]</td><td>0.0517484</td></tr><tr><th>14</th><td>[0x0d]</td><td>0.0520747</td></tr><tr><th>15</th><td>[0x0e]</td><td>0.0596449</td></tr><tr><th>16</th><td>[0x0f]</td><td>0.0697236</td></tr></tbody></table></div>"
      ],
      "text/latex": [
       "\\begin{tabular}{r|cc}\n",
       "\t& phenos & values\\\\\n",
       "\t\\hline\n",
       "\t& Array… & Float64\\\\\n",
       "\t\\hline\n",
       "\t1 & [0x00] & 0.069739 \\\\\n",
       "\t2 & [0x01] & 0.0596338 \\\\\n",
       "\t3 & [0x02] & 0.0520971 \\\\\n",
       "\t4 & [0x03] & 0.0517484 \\\\\n",
       "\t5 & [0x04] & 0.0520971 \\\\\n",
       "\t6 & [0x05] & 0.0847301 \\\\\n",
       "\t7 & [0x06] & 0.0973664 \\\\\n",
       "\t8 & [0x07] & 0.0596449 \\\\\n",
       "\t9 & [0x08] & 0.0596338 \\\\\n",
       "\t10 & [0x09] & 0.0433131 \\\\\n",
       "\t11 & [0x0a] & 0.0847301 \\\\\n",
       "\t12 & [0x0b] & 0.0520747 \\\\\n",
       "\t13 & [0x0c] & 0.0517484 \\\\\n",
       "\t14 & [0x0d] & 0.0520747 \\\\\n",
       "\t15 & [0x0e] & 0.0596449 \\\\\n",
       "\t16 & [0x0f] & 0.0697236 \\\\\n",
       "\\end{tabular}\n"
      ],
      "text/plain": [
       "\u001b[1m16×2 DataFrame\u001b[0m\n",
       "\u001b[1m Row \u001b[0m│\u001b[1m phenos      \u001b[0m\u001b[1m values    \u001b[0m\n",
       "\u001b[1m     \u001b[0m│\u001b[90m Array…      \u001b[0m\u001b[90m Float64   \u001b[0m\n",
       "─────┼────────────────────────\n",
       "   1 │ UInt8[0x00]  0.069739\n",
       "   2 │ UInt8[0x01]  0.0596338\n",
       "   3 │ UInt8[0x02]  0.0520971\n",
       "   4 │ UInt8[0x03]  0.0517484\n",
       "   5 │ UInt8[0x04]  0.0520971\n",
       "   6 │ UInt8[0x05]  0.0847301\n",
       "   7 │ UInt8[0x06]  0.0973664\n",
       "   8 │ UInt8[0x07]  0.0596449\n",
       "   9 │ UInt8[0x08]  0.0596338\n",
       "  10 │ UInt8[0x09]  0.0433131\n",
       "  11 │ UInt8[0x0a]  0.0847301\n",
       "  12 │ UInt8[0x0b]  0.0520747\n",
       "  13 │ UInt8[0x0c]  0.0517484\n",
       "  14 │ UInt8[0x0d]  0.0520747\n",
       "  15 │ UInt8[0x0e]  0.0596449\n",
       "  16 │ UInt8[0x0f]  0.0697236"
      ]
     },
     "execution_count": 158,
     "metadata": {},
     "output_type": "execute_result"
    }
   ],
   "source": [
    "display_pheno_vect( mx, labels ) \n"
   ]
  }
 ],
 "metadata": {
  "kernelspec": {
   "display_name": "Julia 1.8.5",
   "language": "julia",
   "name": "julia-1.8"
  },
  "language_info": {
   "file_extension": ".jl",
   "mimetype": "application/julia",
   "name": "julia",
   "version": "1.8.5"
  }
 },
 "nbformat": 4,
 "nbformat_minor": 5
}
